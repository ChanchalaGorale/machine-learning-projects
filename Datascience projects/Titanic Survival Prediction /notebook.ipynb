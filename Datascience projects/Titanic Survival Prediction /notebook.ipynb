{
  "nbformat": 4,
  "nbformat_minor": 0,
  "metadata": {
    "colab": {
      "provenance": [],
      "collapsed_sections": [
        "NRn3riJVYkAi",
        "GN_72C4cY3TL",
        "HdrBIMnaddUp",
        "fzKjxdpUoudY"
      ]
    },
    "kernelspec": {
      "name": "python3",
      "display_name": "Python 3"
    },
    "language_info": {
      "name": "python"
    }
  },
  "cells": [
    {
      "cell_type": "markdown",
      "source": [
        "# Titanic Survival Prediction"
      ],
      "metadata": {
        "id": "rOKSn2iblJH6"
      }
    },
    {
      "cell_type": "code",
      "source": [
        "path1 = \"/content/gender_submission.csv\"\n",
        "path2 = \"/content/test.csv\"\n",
        "path3 = \"/content/train.csv\""
      ],
      "metadata": {
        "id": "6f0rlgczlKx8"
      },
      "execution_count": 1,
      "outputs": []
    },
    {
      "cell_type": "code",
      "source": [
        "from ast import increment_lineno\n",
        "import warnings\n",
        "import numpy as np\n",
        "import pandas as pd\n",
        "import matplotlib.pyplot as plt\n",
        "import seaborn as sns\n",
        "\n",
        "plt.style.use(\"fivethirtyeight\")\n",
        "\n",
        "%matplotlib inline\n",
        "\n",
        "warnings.filterwarnings(\"ignore\")"
      ],
      "metadata": {
        "id": "jF4e9PCwd5d3"
      },
      "execution_count": 4,
      "outputs": []
    },
    {
      "cell_type": "code",
      "source": [
        "train = pd.read_csv(path3)\n",
        "test = pd.read_csv(path2)\n",
        "\n",
        "train.shape"
      ],
      "metadata": {
        "colab": {
          "base_uri": "https://localhost:8080/"
        },
        "id": "khvGUO5YeMzO",
        "outputId": "b7c55c97-038c-4410-eb83-21983aeb696b"
      },
      "execution_count": 5,
      "outputs": [
        {
          "output_type": "execute_result",
          "data": {
            "text/plain": [
              "(891, 12)"
            ]
          },
          "metadata": {},
          "execution_count": 5
        }
      ]
    },
    {
      "cell_type": "code",
      "source": [
        "train.info()"
      ],
      "metadata": {
        "colab": {
          "base_uri": "https://localhost:8080/"
        },
        "id": "8CaKxRwPebNr",
        "outputId": "1c555174-6390-4ccc-b529-5eb4c6fec1d0"
      },
      "execution_count": 6,
      "outputs": [
        {
          "output_type": "stream",
          "name": "stdout",
          "text": [
            "<class 'pandas.core.frame.DataFrame'>\n",
            "RangeIndex: 891 entries, 0 to 890\n",
            "Data columns (total 12 columns):\n",
            " #   Column       Non-Null Count  Dtype  \n",
            "---  ------       --------------  -----  \n",
            " 0   PassengerId  891 non-null    int64  \n",
            " 1   Survived     891 non-null    int64  \n",
            " 2   Pclass       891 non-null    int64  \n",
            " 3   Name         891 non-null    object \n",
            " 4   Sex          891 non-null    object \n",
            " 5   Age          714 non-null    float64\n",
            " 6   SibSp        891 non-null    int64  \n",
            " 7   Parch        891 non-null    int64  \n",
            " 8   Ticket       891 non-null    object \n",
            " 9   Fare         891 non-null    float64\n",
            " 10  Cabin        204 non-null    object \n",
            " 11  Embarked     889 non-null    object \n",
            "dtypes: float64(2), int64(5), object(5)\n",
            "memory usage: 83.7+ KB\n"
          ]
        }
      ]
    },
    {
      "cell_type": "code",
      "source": [
        "train.isnull().sum()"
      ],
      "metadata": {
        "colab": {
          "base_uri": "https://localhost:8080/",
          "height": 460
        },
        "id": "1D8KzSVgedJ1",
        "outputId": "6ef0d217-6cb9-4c96-ee0a-ad17d2d16be4"
      },
      "execution_count": 7,
      "outputs": [
        {
          "output_type": "execute_result",
          "data": {
            "text/plain": [
              "PassengerId      0\n",
              "Survived         0\n",
              "Pclass           0\n",
              "Name             0\n",
              "Sex              0\n",
              "Age            177\n",
              "SibSp            0\n",
              "Parch            0\n",
              "Ticket           0\n",
              "Fare             0\n",
              "Cabin          687\n",
              "Embarked         2\n",
              "dtype: int64"
            ],
            "text/html": [
              "<div>\n",
              "<style scoped>\n",
              "    .dataframe tbody tr th:only-of-type {\n",
              "        vertical-align: middle;\n",
              "    }\n",
              "\n",
              "    .dataframe tbody tr th {\n",
              "        vertical-align: top;\n",
              "    }\n",
              "\n",
              "    .dataframe thead th {\n",
              "        text-align: right;\n",
              "    }\n",
              "</style>\n",
              "<table border=\"1\" class=\"dataframe\">\n",
              "  <thead>\n",
              "    <tr style=\"text-align: right;\">\n",
              "      <th></th>\n",
              "      <th>0</th>\n",
              "    </tr>\n",
              "  </thead>\n",
              "  <tbody>\n",
              "    <tr>\n",
              "      <th>PassengerId</th>\n",
              "      <td>0</td>\n",
              "    </tr>\n",
              "    <tr>\n",
              "      <th>Survived</th>\n",
              "      <td>0</td>\n",
              "    </tr>\n",
              "    <tr>\n",
              "      <th>Pclass</th>\n",
              "      <td>0</td>\n",
              "    </tr>\n",
              "    <tr>\n",
              "      <th>Name</th>\n",
              "      <td>0</td>\n",
              "    </tr>\n",
              "    <tr>\n",
              "      <th>Sex</th>\n",
              "      <td>0</td>\n",
              "    </tr>\n",
              "    <tr>\n",
              "      <th>Age</th>\n",
              "      <td>177</td>\n",
              "    </tr>\n",
              "    <tr>\n",
              "      <th>SibSp</th>\n",
              "      <td>0</td>\n",
              "    </tr>\n",
              "    <tr>\n",
              "      <th>Parch</th>\n",
              "      <td>0</td>\n",
              "    </tr>\n",
              "    <tr>\n",
              "      <th>Ticket</th>\n",
              "      <td>0</td>\n",
              "    </tr>\n",
              "    <tr>\n",
              "      <th>Fare</th>\n",
              "      <td>0</td>\n",
              "    </tr>\n",
              "    <tr>\n",
              "      <th>Cabin</th>\n",
              "      <td>687</td>\n",
              "    </tr>\n",
              "    <tr>\n",
              "      <th>Embarked</th>\n",
              "      <td>2</td>\n",
              "    </tr>\n",
              "  </tbody>\n",
              "</table>\n",
              "</div><br><label><b>dtype:</b> int64</label>"
            ]
          },
          "metadata": {},
          "execution_count": 7
        }
      ]
    },
    {
      "cell_type": "code",
      "source": [
        "train[\"Survived\"].value_counts()"
      ],
      "metadata": {
        "colab": {
          "base_uri": "https://localhost:8080/",
          "height": 178
        },
        "id": "FG_Rr9VhgJpP",
        "outputId": "d579ff97-598b-4da3-cae9-73bd58c3c8f8"
      },
      "execution_count": 12,
      "outputs": [
        {
          "output_type": "execute_result",
          "data": {
            "text/plain": [
              "Survived\n",
              "0    549\n",
              "1    342\n",
              "Name: count, dtype: int64"
            ],
            "text/html": [
              "<div>\n",
              "<style scoped>\n",
              "    .dataframe tbody tr th:only-of-type {\n",
              "        vertical-align: middle;\n",
              "    }\n",
              "\n",
              "    .dataframe tbody tr th {\n",
              "        vertical-align: top;\n",
              "    }\n",
              "\n",
              "    .dataframe thead th {\n",
              "        text-align: right;\n",
              "    }\n",
              "</style>\n",
              "<table border=\"1\" class=\"dataframe\">\n",
              "  <thead>\n",
              "    <tr style=\"text-align: right;\">\n",
              "      <th></th>\n",
              "      <th>count</th>\n",
              "    </tr>\n",
              "    <tr>\n",
              "      <th>Survived</th>\n",
              "      <th></th>\n",
              "    </tr>\n",
              "  </thead>\n",
              "  <tbody>\n",
              "    <tr>\n",
              "      <th>0</th>\n",
              "      <td>549</td>\n",
              "    </tr>\n",
              "    <tr>\n",
              "      <th>1</th>\n",
              "      <td>342</td>\n",
              "    </tr>\n",
              "  </tbody>\n",
              "</table>\n",
              "</div><br><label><b>dtype:</b> int64</label>"
            ]
          },
          "metadata": {},
          "execution_count": 12
        }
      ]
    },
    {
      "cell_type": "code",
      "source": [
        "f, ax  = plt.subplots(1,2, figsize=(12, 4))\n",
        "\n",
        "train[\"Survived\"].value_counts().plot.pie(\n",
        "    explode=[0,0.1],\n",
        "    autopct='%1.1f%%',\n",
        "    ax=ax[0],\n",
        "    shadow=False\n",
        ")\n",
        "ax[0].set_title(\"Survivors (1) and the dead (0)\")\n",
        "ax[0].set_ylabel(\"\")\n",
        "\n",
        "sns.countplot(x=\"Survived\", data=train, ax=ax[1])\n",
        "ax[1].set_ylabel(\"Quanltity\")\n",
        "ax[1].set_title(\"Survivors (1) and the dead (0)\")\n",
        "\n",
        "plt.show()"
      ],
      "metadata": {
        "colab": {
          "base_uri": "https://localhost:8080/",
          "height": 275
        },
        "id": "b0-Sf_nRepe0",
        "outputId": "d0dde94a-5eee-43c1-8127-105fb447b436"
      },
      "execution_count": 11,
      "outputs": [
        {
          "output_type": "display_data",
          "data": {
            "text/plain": [
              "<Figure size 1200x400 with 2 Axes>"
            ],
            "image/png": "[encoded data removed]"
          },
          "metadata": {}
        }
      ]
    },
    {
      "cell_type": "code",
      "source": [
        "f, ax = plt.subplots(1,2, figsize=(12,4))\n",
        "\n",
        "train[[\"Sex\", \"Survived\"]].groupby([\"Sex\"]).mean().plot.bar(\n",
        "    ax=ax[0]\n",
        ")\n",
        "\n",
        "ax[0].set_title(\"Survivors by sex\")\n",
        "\n",
        "sns.countplot(x=\"Sex\", hue=\"Survived\", data=train, ax=ax[1])\n",
        "\n",
        "ax[1].set_ylabel(\"Quatity\")\n",
        "ax[1].set_title(\"Survived (1) and deceased (0): men and women\")\n",
        "\n",
        "plt.show()"
      ],
      "metadata": {
        "colab": {
          "base_uri": "https://localhost:8080/",
          "height": 266
        },
        "id": "EzHJcs-siXHF",
        "outputId": "4c85775d-84f3-4aea-d937-54355dbf4bbc"
      },
      "execution_count": 13,
      "outputs": [
        {
          "output_type": "display_data",
          "data": {
            "text/plain": [
              "<Figure size 1200x400 with 2 Axes>"
            ],
            "image/png": "[encoded data removed]"
          },
          "metadata": {}
        }
      ]
    },
    {
      "cell_type": "code",
      "source": [
        "train = train.drop([\"Cabin\"], axis =1)\n",
        "test = test.drop([\"Cabin\"], axis =1)"
      ],
      "metadata": {
        "id": "AXsPl-ullrLN"
      },
      "execution_count": 15,
      "outputs": []
    },
    {
      "cell_type": "code",
      "source": [
        "train = train.drop([\"Ticket\"], axis =1)\n",
        "test = test.drop([\"Ticket\"], axis =1)"
      ],
      "metadata": {
        "id": "8RovpFmglxvD"
      },
      "execution_count": 16,
      "outputs": []
    },
    {
      "cell_type": "code",
      "source": [
        "train = train.fillna({\"Embarked\": \"S\"})"
      ],
      "metadata": {
        "id": "pVYBc0kjoTcm"
      },
      "execution_count": 17,
      "outputs": []
    },
    {
      "cell_type": "code",
      "source": [
        "train[\"Age\"]= train[\"Age\"].fillna(-0.5)\n",
        "test[\"Age\"]= test[\"Age\"].fillna(-0.5)\n",
        "bins = [-1, 0, 5, 12, 18, 24, 35, 60, np.inf]\n",
        "\n",
        "labels = ['Unknown', 'Baby', 'Child', 'Teenager', 'Student', 'Young Adult', 'Adult', 'Senior']\n",
        "\n",
        "train[\"AgeGroup\"] = pd.cut(train[\"Age\"], bins, labels=labels)\n",
        "test[\"AgeGroup\"] = pd.cut(test[\"Age\"], bins, labels=labels)"
      ],
      "metadata": {
        "id": "OZi5F6BhoaxH"
      },
      "execution_count": 18,
      "outputs": []
    },
    {
      "cell_type": "code",
      "source": [
        "combine = [train, test]\n",
        "\n",
        "for dataset in combine:\n",
        "  dataset[\"Title\"] = dataset.Name.str.extract(' ([A-Za-z]+)\\.', expand=False)\n",
        "\n",
        "pd.crosstab(train[\"Title\"], train[\"Sex\"])\n",
        "\n",
        "for dataset in combine:\n",
        "  dataset[\"Title\"] = dataset[\"Title\"].replace(['Lady', 'Capt', 'Col', 'Don', 'Dr', 'Major', 'Rev', 'Jonkheer', 'Dona'], \"Rare\")\n",
        "  dataset[\"Title\"] = dataset[\"Title\"].replace(['Countess', 'Lady', 'Sir'], 'Royal')\n",
        "  dataset['Title'] = dataset['Title'].replace('Mlle', 'Miss')\n",
        "  dataset['Title'] = dataset['Title'].replace('Ms', 'Miss')\n",
        "  dataset['Title'] = dataset['Title'].replace('Mme', 'Mrs')\n",
        "\n",
        "train[['Title', 'Survived']].groupby(['Title'], as_index=False).mean()\n",
        "\n",
        "title_mapping = {\"Mr\": 1, \"Miss\": 2, \"Mrs\": 3,\n",
        "                 \"Master\": 4, \"Royal\": 5, \"Rare\": 6}\n",
        "for dataset in combine:\n",
        "    dataset['Title'] = dataset['Title'].map(title_mapping)\n",
        "    dataset['Title'] = dataset['Title'].fillna(0)\n"
      ],
      "metadata": {
        "id": "j0pT4uPJqn8-"
      },
      "execution_count": 19,
      "outputs": []
    },
    {
      "cell_type": "code",
      "source": [
        "mr_age = train[train[\"Title\"] == 1][\"AgeGroup\"].mode()\n",
        "miss_age = train[train[\"Title\"] == 2][\"AgeGroup\"].mode()\n",
        "mrs_age = train[train[\"Title\"] == 3][\"AgeGroup\"].mode()\n",
        "master_age = train[train[\"Title\"] == 4][\"AgeGroup\"].mode()\n",
        "royal_age = train[train[\"Title\"] == 5][\"AgeGroup\"].mode()\n",
        "rare_age = train[train[\"Title\"] == 6][\"AgeGroup\"].mode()\n",
        "\n",
        "age_title_mapping = {1: \"Young Adult\", 2: \"Student\",\n",
        "                     3: \"Adult\", 4: \"Baby\", 5: \"Adult\", 6: \"Adult\"}\n",
        "\n",
        "for x in range(len(train[\"AgeGroup\"])):\n",
        "    if train[\"AgeGroup\"][x] == \"Unknown\":\n",
        "        train[\"AgeGroup\"][x] = age_title_mapping[train[\"Title\"][x]]\n",
        "\n",
        "for x in range(len(test[\"AgeGroup\"])):\n",
        "    if test[\"AgeGroup\"][x] == \"Unknown\":\n",
        "        test[\"AgeGroup\"][x] = age_title_mapping[test[\"Title\"][x]]"
      ],
      "metadata": {
        "id": "Djtr_yOir58T"
      },
      "execution_count": 21,
      "outputs": []
    },
    {
      "cell_type": "code",
      "source": [
        "age_mapping = {'Baby': 1, 'Child': 2, 'Teenager': 3,\n",
        "               'Student': 4, 'Young Adult': 5, 'Adult': 6,\n",
        "               'Senior': 7}\n",
        "train['AgeGroup'] = train['AgeGroup'].map(age_mapping)\n",
        "test['AgeGroup'] = test['AgeGroup'].map(age_mapping)\n",
        "\n",
        "train.head()\n",
        "\n",
        "train = train.drop(['Age'], axis=1)\n",
        "test = test.drop(['Age'], axis=1)"
      ],
      "metadata": {
        "id": "EqlfjyqksCSc"
      },
      "execution_count": 22,
      "outputs": []
    },
    {
      "cell_type": "code",
      "source": [
        "train = train.drop(['Name'], axis=1)\n",
        "test = test.drop(['Name'], axis=1)"
      ],
      "metadata": {
        "id": "e3tOIn-msGZ7"
      },
      "execution_count": 23,
      "outputs": []
    },
    {
      "cell_type": "code",
      "source": [
        "sex_mapping = {\"male\": 0, \"female\": 1}\n",
        "train['Sex'] = train['Sex'].map(sex_mapping)\n",
        "test['Sex'] = test['Sex'].map(sex_mapping)\n",
        "\n",
        "embarked_mapping = {\"S\": 1, \"C\": 2, \"Q\": 3}\n",
        "train['Embarked'] = train['Embarked'].map(embarked_mapping)\n",
        "test['Embarked'] = test['Embarked'].map(embarked_mapping)"
      ],
      "metadata": {
        "id": "AHdFtHRbsH7i"
      },
      "execution_count": 24,
      "outputs": []
    },
    {
      "cell_type": "code",
      "source": [
        "for x in range(len(test[\"Fare\"])):\n",
        "    if pd.isnull(test[\"Fare\"][x]):\n",
        "        pclass = test[\"Pclass\"][x]  # Pclass = 3\n",
        "        test[\"Fare\"][x] = round(\n",
        "            train[train[\"Pclass\"] == pclass][\"Fare\"].mean(), 4)"
      ],
      "metadata": {
        "id": "lwbHJtEzsJd8"
      },
      "execution_count": 25,
      "outputs": []
    },
    {
      "cell_type": "code",
      "source": [
        "train['FareBand'] = pd.qcut(train['Fare'], 4,\n",
        "                            labels=[1, 2, 3, 4])\n",
        "test['FareBand'] = pd.qcut(test['Fare'], 4,\n",
        "                           labels=[1, 2, 3, 4])\n",
        "\n",
        "train = train.drop(['Fare'], axis=1)\n",
        "test = test.drop(['Fare'], axis=1)"
      ],
      "metadata": {
        "id": "Qbe2ix3rsMt2"
      },
      "execution_count": 26,
      "outputs": []
    },
    {
      "cell_type": "code",
      "source": [
        "from sklearn.model_selection import train_test_split\n",
        "\n",
        "predictors = train.drop(['Survived', 'PassengerId'], axis=1)\n",
        "traget = train[\"Survived\"]\n",
        "\n",
        "x_train, x_val, y_train, y_val = train_test_split(predictors, traget, test_size=0.2, random_state=0)"
      ],
      "metadata": {
        "id": "FfoANdMWsP7s"
      },
      "execution_count": 28,
      "outputs": []
    },
    {
      "cell_type": "code",
      "source": [
        "from sklearn.ensemble import RandomForestClassifier\n",
        "from sklearn.metrics import accuracy_score\n",
        "\n",
        "randomforest = RandomForestClassifier()\n",
        "\n",
        "randomforest.fit(x_train, y_train)\n",
        "y_pred = randomforest.predict(x_val)\n",
        "\n",
        "acc_randomforest = round(accuracy_score(y_pred, y_val) * 100, 2)\n",
        "acc_randomforest"
      ],
      "metadata": {
        "colab": {
          "base_uri": "https://localhost:8080/"
        },
        "id": "o3AVLsuQthpE",
        "outputId": "1326b10d-f587-4667-d8e5-9bd5f9920e61"
      },
      "execution_count": 30,
      "outputs": [
        {
          "output_type": "execute_result",
          "data": {
            "text/plain": [
              "85.47"
            ]
          },
          "metadata": {},
          "execution_count": 30
        }
      ]
    },
    {
      "cell_type": "code",
      "source": [
        "ids = test['PassengerId']\n",
        "predictions = randomforest.predict(test.drop('PassengerId', axis=1))\n",
        "\n",
        "output = pd.DataFrame({'PassengerId': ids, 'Survived': predictions})\n",
        "output.to_csv('resultfile.csv', index=False)"
      ],
      "metadata": {
        "id": "Ir6QVQnytrIY"
      },
      "execution_count": 31,
      "outputs": []
    },
    {
      "cell_type": "code",
      "source": [],
      "metadata": {
        "id": "-hgl5tH6tw73"
      },
      "execution_count": null,
      "outputs": []
    }
  ]
}