{
  "nbformat": 4,
  "nbformat_minor": 0,
  "metadata": {
    "colab": {
      "provenance": []
    },
    "kernelspec": {
      "name": "python3",
      "display_name": "Python 3"
    },
    "language_info": {
      "name": "python"
    }
  },
  "cells": [
    {
      "cell_type": "markdown",
      "source": [
        "# Prediction of Crop Production"
      ],
      "metadata": {
        "id": "gRq6xfFmpB3r"
      }
    },
    {
      "cell_type": "code",
      "source": [
        "import kagglehub\n",
        "import os\n",
        "\n",
        "path = kagglehub.dataset_download(\"nikhilmahajan29/crop-production-statistics-india\")"
      ],
      "metadata": {
        "colab": {
          "base_uri": "https://localhost:8080/"
        },
        "id": "JufnaopxpzPm",
        "outputId": "f4a2b8bf-d51f-4753-bf0b-46c1a69544a7"
      },
      "execution_count": 2,
      "outputs": [
        {
          "output_type": "stream",
          "name": "stdout",
          "text": [
            "Path to dataset files: /kaggle/input/crop-production-statistics-india\n"
          ]
        }
      ]
    },
    {
      "cell_type": "code",
      "source": [
        "import pandas as pd\n",
        "\n",
        "data = pd.read_csv(os.path.join(path, 'APY.csv'))\n",
        "\n",
        "data.head()"
      ],
      "metadata": {
        "colab": {
          "base_uri": "https://localhost:8080/",
          "height": 206
        },
        "id": "kZwincAnpEz9",
        "outputId": "8c141b88-bd96-4937-83ac-0dc8d41d5b50"
      },
      "execution_count": 4,
      "outputs": [
        {
          "output_type": "execute_result",
          "data": {
            "text/plain": [
              "                        State District       Crop  Crop_Year       Season  \\\n",
              "0  Andaman and Nicobar Island  NICOBARS  Arecanut       2007  Kharif        \n",
              "1  Andaman and Nicobar Island  NICOBARS  Arecanut       2007  Rabi          \n",
              "2  Andaman and Nicobar Island  NICOBARS  Arecanut       2008  Autumn        \n",
              "3  Andaman and Nicobar Island  NICOBARS  Arecanut       2008  Summer        \n",
              "4  Andaman and Nicobar Island  NICOBARS  Arecanut       2009  Autumn        \n",
              "\n",
              "    Area   Production  Yield  \n",
              "0  2439.6      3415.0   1.40  \n",
              "1  1626.4      2277.0   1.40  \n",
              "2  4147.0      3060.0   0.74  \n",
              "3  4147.0      2660.0   0.64  \n",
              "4  4153.0      3120.0   0.75  "
            ],
            "text/html": [
              "\n",
              "  <div id=\"df-68f66dfa-d8e0-469f-865e-3733e6a7d1b6\" class=\"colab-df-container\">\n",
              "    <div>\n",
              "<style scoped>\n",
              "    .dataframe tbody tr th:only-of-type {\n",
              "        vertical-align: middle;\n",
              "    }\n",
              "\n",
              "    .dataframe tbody tr th {\n",
              "        vertical-align: top;\n",
              "    }\n",
              "\n",
              "    .dataframe thead th {\n",
              "        text-align: right;\n",
              "    }\n",
              "</style>\n",
              "<table border=\"1\" class=\"dataframe\">\n",
              "  <thead>\n",
              "    <tr style=\"text-align: right;\">\n",
              "      <th></th>\n",
              "      <th>State</th>\n",
              "      <th>District</th>\n",
              "      <th>Crop</th>\n",
              "      <th>Crop_Year</th>\n",
              "      <th>Season</th>\n",
              "      <th>Area</th>\n",
              "      <th>Production</th>\n",
              "      <th>Yield</th>\n",
              "    </tr>\n",
              "  </thead>\n",
              "  <tbody>\n",
              "    <tr>\n",
              "      <th>0</th>\n",
              "      <td>Andaman and Nicobar Island</td>\n",
              "      <td>NICOBARS</td>\n",
              "      <td>Arecanut</td>\n",
              "      <td>2007</td>\n",
              "      <td>Kharif</td>\n",
              "      <td>2439.6</td>\n",
              "      <td>3415.0</td>\n",
              "      <td>1.40</td>\n",
              "    </tr>\n",
              "    <tr>\n",
              "      <th>1</th>\n",
              "      <td>Andaman and Nicobar Island</td>\n",
              "      <td>NICOBARS</td>\n",
              "      <td>Arecanut</td>\n",
              "      <td>2007</td>\n",
              "      <td>Rabi</td>\n",
              "      <td>1626.4</td>\n",
              "      <td>2277.0</td>\n",
              "      <td>1.40</td>\n",
              "    </tr>\n",
              "    <tr>\n",
              "      <th>2</th>\n",
              "      <td>Andaman and Nicobar Island</td>\n",
              "      <td>NICOBARS</td>\n",
              "      <td>Arecanut</td>\n",
              "      <td>2008</td>\n",
              "      <td>Autumn</td>\n",
              "      <td>4147.0</td>\n",
              "      <td>3060.0</td>\n",
              "      <td>0.74</td>\n",
              "    </tr>\n",
              "    <tr>\n",
              "      <th>3</th>\n",
              "      <td>Andaman and Nicobar Island</td>\n",
              "      <td>NICOBARS</td>\n",
              "      <td>Arecanut</td>\n",
              "      <td>2008</td>\n",
              "      <td>Summer</td>\n",
              "      <td>4147.0</td>\n",
              "      <td>2660.0</td>\n",
              "      <td>0.64</td>\n",
              "    </tr>\n",
              "    <tr>\n",
              "      <th>4</th>\n",
              "      <td>Andaman and Nicobar Island</td>\n",
              "      <td>NICOBARS</td>\n",
              "      <td>Arecanut</td>\n",
              "      <td>2009</td>\n",
              "      <td>Autumn</td>\n",
              "      <td>4153.0</td>\n",
              "      <td>3120.0</td>\n",
              "      <td>0.75</td>\n",
              "    </tr>\n",
              "  </tbody>\n",
              "</table>\n",
              "</div>\n",
              "    <div class=\"colab-df-buttons\">\n",
              "\n",
              "  <div class=\"colab-df-container\">\n",
              "    <button class=\"colab-df-convert\" onclick=\"convertToInteractive('df-68f66dfa-d8e0-469f-865e-3733e6a7d1b6')\"\n",
              "            title=\"Convert this dataframe to an interactive table.\"\n",
              "            style=\"display:none;\">\n",
              "\n",
              "  <svg xmlns=\"http://www.w3.org/2000/svg\" height=\"24px\" viewBox=\"0 -960 960 960\">\n",
              "    <path d=\"M120-120v-720h720v720H120Zm60-500h600v-160H180v160Zm220 220h160v-160H400v160Zm0 220h160v-160H400v160ZM180-400h160v-160H180v160Zm440 0h160v-160H620v160ZM180-180h160v-160H180v160Zm440 0h160v-160H620v160Z\"/>\n",
              "  </svg>\n",
              "    </button>\n",
              "\n",
              "  <style>\n",
              "    .colab-df-container {\n",
              "      display:flex;\n",
              "      gap: 12px;\n",
              "    }\n",
              "\n",
              "    .colab-df-convert {\n",
              "      background-color: #E8F0FE;\n",
              "      border: none;\n",
              "      border-radius: 50%;\n",
              "      cursor: pointer;\n",
              "      display: none;\n",
              "      fill: #1967D2;\n",
              "      height: 32px;\n",
              "      padding: 0 0 0 0;\n",
              "      width: 32px;\n",
              "    }\n",
              "\n",
              "    .colab-df-convert:hover {\n",
              "      background-color: #E2EBFA;\n",
              "      box-shadow: 0px 1px 2px rgba(60, 64, 67, 0.3), 0px 1px 3px 1px rgba(60, 64, 67, 0.15);\n",
              "      fill: #174EA6;\n",
              "    }\n",
              "\n",
              "    .colab-df-buttons div {\n",
              "      margin-bottom: 4px;\n",
              "    }\n",
              "\n",
              "    [theme=dark] .colab-df-convert {\n",
              "      background-color: #3B4455;\n",
              "      fill: #D2E3FC;\n",
              "    }\n",
              "\n",
              "    [theme=dark] .colab-df-convert:hover {\n",
              "      background-color: #434B5C;\n",
              "      box-shadow: 0px 1px 3px 1px rgba(0, 0, 0, 0.15);\n",
              "      filter: drop-shadow(0px 1px 2px rgba(0, 0, 0, 0.3));\n",
              "      fill: #FFFFFF;\n",
              "    }\n",
              "  </style>\n",
              "\n",
              "    <script>\n",
              "      const buttonEl =\n",
              "        document.querySelector('#df-68f66dfa-d8e0-469f-865e-3733e6a7d1b6 button.colab-df-convert');\n",
              "      buttonEl.style.display =\n",
              "        google.colab.kernel.accessAllowed ? 'block' : 'none';\n",
              "\n",
              "      async function convertToInteractive(key) {\n",
              "        const element = document.querySelector('#df-68f66dfa-d8e0-469f-865e-3733e6a7d1b6');\n",
              "        const dataTable =\n",
              "          await google.colab.kernel.invokeFunction('convertToInteractive',\n",
              "                                                    [key], {});\n",
              "        if (!dataTable) return;\n",
              "\n",
              "        const docLinkHtml = 'Like what you see? Visit the ' +\n",
              "          '<a target=\"_blank\" href=https://colab.research.google.com/notebooks/data_table.ipynb>data table notebook</a>'\n",
              "          + ' to learn more about interactive tables.';\n",
              "        element.innerHTML = '';\n",
              "        dataTable['output_type'] = 'display_data';\n",
              "        await google.colab.output.renderOutput(dataTable, element);\n",
              "        const docLink = document.createElement('div');\n",
              "        docLink.innerHTML = docLinkHtml;\n",
              "        element.appendChild(docLink);\n",
              "      }\n",
              "    </script>\n",
              "  </div>\n",
              "\n",
              "\n",
              "    <div id=\"df-c06ccacd-780f-478c-9e87-ae434b7f1a68\">\n",
              "      <button class=\"colab-df-quickchart\" onclick=\"quickchart('df-c06ccacd-780f-478c-9e87-ae434b7f1a68')\"\n",
              "                title=\"Suggest charts\"\n",
              "                style=\"display:none;\">\n",
              "\n",
              "<svg xmlns=\"http://www.w3.org/2000/svg\" height=\"24px\"viewBox=\"0 0 24 24\"\n",
              "     width=\"24px\">\n",
              "    <g>\n",
              "        <path d=\"M19 3H5c-1.1 0-2 .9-2 2v14c0 1.1.9 2 2 2h14c1.1 0 2-.9 2-2V5c0-1.1-.9-2-2-2zM9 17H7v-7h2v7zm4 0h-2V7h2v10zm4 0h-2v-4h2v4z\"/>\n",
              "    </g>\n",
              "</svg>\n",
              "      </button>\n",
              "\n",
              "<style>\n",
              "  .colab-df-quickchart {\n",
              "      --bg-color: #E8F0FE;\n",
              "      --fill-color: #1967D2;\n",
              "      --hover-bg-color: #E2EBFA;\n",
              "      --hover-fill-color: #174EA6;\n",
              "      --disabled-fill-color: #AAA;\n",
              "      --disabled-bg-color: #DDD;\n",
              "  }\n",
              "\n",
              "  [theme=dark] .colab-df-quickchart {\n",
              "      --bg-color: #3B4455;\n",
              "      --fill-color: #D2E3FC;\n",
              "      --hover-bg-color: #434B5C;\n",
              "      --hover-fill-color: #FFFFFF;\n",
              "      --disabled-bg-color: #3B4455;\n",
              "      --disabled-fill-color: #666;\n",
              "  }\n",
              "\n",
              "  .colab-df-quickchart {\n",
              "    background-color: var(--bg-color);\n",
              "    border: none;\n",
              "    border-radius: 50%;\n",
              "    cursor: pointer;\n",
              "    display: none;\n",
              "    fill: var(--fill-color);\n",
              "    height: 32px;\n",
              "    padding: 0;\n",
              "    width: 32px;\n",
              "  }\n",
              "\n",
              "  .colab-df-quickchart:hover {\n",
              "    background-color: var(--hover-bg-color);\n",
              "    box-shadow: 0 1px 2px rgba(60, 64, 67, 0.3), 0 1px 3px 1px rgba(60, 64, 67, 0.15);\n",
              "    fill: var(--button-hover-fill-color);\n",
              "  }\n",
              "\n",
              "  .colab-df-quickchart-complete:disabled,\n",
              "  .colab-df-quickchart-complete:disabled:hover {\n",
              "    background-color: var(--disabled-bg-color);\n",
              "    fill: var(--disabled-fill-color);\n",
              "    box-shadow: none;\n",
              "  }\n",
              "\n",
              "  .colab-df-spinner {\n",
              "    border: 2px solid var(--fill-color);\n",
              "    border-color: transparent;\n",
              "    border-bottom-color: var(--fill-color);\n",
              "    animation:\n",
              "      spin 1s steps(1) infinite;\n",
              "  }\n",
              "\n",
              "  @keyframes spin {\n",
              "    0% {\n",
              "      border-color: transparent;\n",
              "      border-bottom-color: var(--fill-color);\n",
              "      border-left-color: var(--fill-color);\n",
              "    }\n",
              "    20% {\n",
              "      border-color: transparent;\n",
              "      border-left-color: var(--fill-color);\n",
              "      border-top-color: var(--fill-color);\n",
              "    }\n",
              "    30% {\n",
              "      border-color: transparent;\n",
              "      border-left-color: var(--fill-color);\n",
              "      border-top-color: var(--fill-color);\n",
              "      border-right-color: var(--fill-color);\n",
              "    }\n",
              "    40% {\n",
              "      border-color: transparent;\n",
              "      border-right-color: var(--fill-color);\n",
              "      border-top-color: var(--fill-color);\n",
              "    }\n",
              "    60% {\n",
              "      border-color: transparent;\n",
              "      border-right-color: var(--fill-color);\n",
              "    }\n",
              "    80% {\n",
              "      border-color: transparent;\n",
              "      border-right-color: var(--fill-color);\n",
              "      border-bottom-color: var(--fill-color);\n",
              "    }\n",
              "    90% {\n",
              "      border-color: transparent;\n",
              "      border-bottom-color: var(--fill-color);\n",
              "    }\n",
              "  }\n",
              "</style>\n",
              "\n",
              "      <script>\n",
              "        async function quickchart(key) {\n",
              "          const quickchartButtonEl =\n",
              "            document.querySelector('#' + key + ' button');\n",
              "          quickchartButtonEl.disabled = true;  // To prevent multiple clicks.\n",
              "          quickchartButtonEl.classList.add('colab-df-spinner');\n",
              "          try {\n",
              "            const charts = await google.colab.kernel.invokeFunction(\n",
              "                'suggestCharts', [key], {});\n",
              "          } catch (error) {\n",
              "            console.error('Error during call to suggestCharts:', error);\n",
              "          }\n",
              "          quickchartButtonEl.classList.remove('colab-df-spinner');\n",
              "          quickchartButtonEl.classList.add('colab-df-quickchart-complete');\n",
              "        }\n",
              "        (() => {\n",
              "          let quickchartButtonEl =\n",
              "            document.querySelector('#df-c06ccacd-780f-478c-9e87-ae434b7f1a68 button');\n",
              "          quickchartButtonEl.style.display =\n",
              "            google.colab.kernel.accessAllowed ? 'block' : 'none';\n",
              "        })();\n",
              "      </script>\n",
              "    </div>\n",
              "\n",
              "    </div>\n",
              "  </div>\n"
            ],
            "application/vnd.google.colaboratory.intrinsic+json": {
              "type": "dataframe",
              "variable_name": "data"
            }
          },
          "metadata": {},
          "execution_count": 4
        }
      ]
    },
    {
      "cell_type": "code",
      "source": [
        "data.info()"
      ],
      "metadata": {
        "colab": {
          "base_uri": "https://localhost:8080/"
        },
        "id": "-DqYsi60pOT-",
        "outputId": "9a564a84-845f-44a4-ccb2-beda532f44c2"
      },
      "execution_count": 5,
      "outputs": [
        {
          "output_type": "stream",
          "name": "stdout",
          "text": [
            "<class 'pandas.core.frame.DataFrame'>\n",
            "RangeIndex: 345336 entries, 0 to 345335\n",
            "Data columns (total 8 columns):\n",
            " #   Column      Non-Null Count   Dtype  \n",
            "---  ------      --------------   -----  \n",
            " 0   State       345336 non-null  object \n",
            " 1   District    345336 non-null  object \n",
            " 2   Crop        345327 non-null  object \n",
            " 3   Crop_Year   345336 non-null  int64  \n",
            " 4   Season      345336 non-null  object \n",
            " 5   Area        345336 non-null  float64\n",
            " 6   Production  340388 non-null  float64\n",
            " 7   Yield       345336 non-null  float64\n",
            "dtypes: float64(3), int64(1), object(4)\n",
            "memory usage: 21.1+ MB\n"
          ]
        }
      ]
    },
    {
      "cell_type": "code",
      "source": [
        "data['Crop'].value_counts()"
      ],
      "metadata": {
        "colab": {
          "base_uri": "https://localhost:8080/",
          "height": 1000
        },
        "collapsed": true,
        "id": "Gmwni6fZq5PJ",
        "outputId": "e799e7c5-1758-499f-ce4a-08362134132f"
      },
      "execution_count": 7,
      "outputs": [
        {
          "output_type": "execute_result",
          "data": {
            "text/plain": [
              "Crop\n",
              "Rice                     21611\n",
              "Maize                    20513\n",
              "Moong(Green Gram)        15139\n",
              "Urad                     14581\n",
              "Sesamum                  13049\n",
              "Groundnut                12586\n",
              "Wheat                    11220\n",
              "Rapeseed &Mustard        11034\n",
              "Sugarcane                10942\n",
              "Arhar/Tur                10885\n",
              "Potato                   10756\n",
              "Onion                    10675\n",
              "Gram                     10474\n",
              "Jowar                     9769\n",
              "Dry chillies              8971\n",
              "Bajra                     8165\n",
              "Peas & beans (Pulses)     7266\n",
              "Sunflower                 7244\n",
              "Small millets             6985\n",
              "Cotton(lint)              6475\n",
              "Masoor                    6383\n",
              "Linseed                   5892\n",
              "Barley                    5891\n",
              "Ragi                      5757\n",
              "Sweet potato              5742\n",
              "Other Kharif pulses       5720\n",
              "Turmeric                  5607\n",
              "Horse-gram                5424\n",
              "Garlic                    5279\n",
              "Coriander                 5037\n",
              "Soyabean                  4988\n",
              "Other  Rabi pulses        4866\n",
              "Castor seed               4681\n",
              "Ginger                    4439\n",
              "Banana                    4140\n",
              "Tobacco                   3936\n",
              "Sannhamp                  3017\n",
              "Coconut                   2927\n",
              "Niger seed                2920\n",
              "Mesta                     2414\n",
              "Tapioca                   2268\n",
              "Arecanut                  2192\n",
              "Guar seed                 2088\n",
              "Jute                      1913\n",
              "Safflower                 1763\n",
              "Cowpea(Lobia)             1761\n",
              "Khesari                   1759\n",
              "Cashewnut                 1573\n",
              "Moth                      1489\n",
              "Black pepper              1417\n",
              "Other Cereals             1387\n",
              "other oilseeds            1240\n",
              "Cardamom                   575\n",
              "Oilseeds total             435\n",
              "Other Summer Pulses         67\n",
              "Name: count, dtype: int64"
            ],
            "text/html": [
              "<div>\n",
              "<style scoped>\n",
              "    .dataframe tbody tr th:only-of-type {\n",
              "        vertical-align: middle;\n",
              "    }\n",
              "\n",
              "    .dataframe tbody tr th {\n",
              "        vertical-align: top;\n",
              "    }\n",
              "\n",
              "    .dataframe thead th {\n",
              "        text-align: right;\n",
              "    }\n",
              "</style>\n",
              "<table border=\"1\" class=\"dataframe\">\n",
              "  <thead>\n",
              "    <tr style=\"text-align: right;\">\n",
              "      <th></th>\n",
              "      <th>count</th>\n",
              "    </tr>\n",
              "    <tr>\n",
              "      <th>Crop</th>\n",
              "      <th></th>\n",
              "    </tr>\n",
              "  </thead>\n",
              "  <tbody>\n",
              "    <tr>\n",
              "      <th>Rice</th>\n",
              "      <td>21611</td>\n",
              "    </tr>\n",
              "    <tr>\n",
              "      <th>Maize</th>\n",
              "      <td>20513</td>\n",
              "    </tr>\n",
              "    <tr>\n",
              "      <th>Moong(Green Gram)</th>\n",
              "      <td>15139</td>\n",
              "    </tr>\n",
              "    <tr>\n",
              "      <th>Urad</th>\n",
              "      <td>14581</td>\n",
              "    </tr>\n",
              "    <tr>\n",
              "      <th>Sesamum</th>\n",
              "      <td>13049</td>\n",
              "    </tr>\n",
              "    <tr>\n",
              "      <th>Groundnut</th>\n",
              "      <td>12586</td>\n",
              "    </tr>\n",
              "    <tr>\n",
              "      <th>Wheat</th>\n",
              "      <td>11220</td>\n",
              "    </tr>\n",
              "    <tr>\n",
              "      <th>Rapeseed &amp;Mustard</th>\n",
              "      <td>11034</td>\n",
              "    </tr>\n",
              "    <tr>\n",
              "      <th>Sugarcane</th>\n",
              "      <td>10942</td>\n",
              "    </tr>\n",
              "    <tr>\n",
              "      <th>Arhar/Tur</th>\n",
              "      <td>10885</td>\n",
              "    </tr>\n",
              "    <tr>\n",
              "      <th>Potato</th>\n",
              "      <td>10756</td>\n",
              "    </tr>\n",
              "    <tr>\n",
              "      <th>Onion</th>\n",
              "      <td>10675</td>\n",
              "    </tr>\n",
              "    <tr>\n",
              "      <th>Gram</th>\n",
              "      <td>10474</td>\n",
              "    </tr>\n",
              "    <tr>\n",
              "      <th>Jowar</th>\n",
              "      <td>9769</td>\n",
              "    </tr>\n",
              "    <tr>\n",
              "      <th>Dry chillies</th>\n",
              "      <td>8971</td>\n",
              "    </tr>\n",
              "    <tr>\n",
              "      <th>Bajra</th>\n",
              "      <td>8165</td>\n",
              "    </tr>\n",
              "    <tr>\n",
              "      <th>Peas &amp; beans (Pulses)</th>\n",
              "      <td>7266</td>\n",
              "    </tr>\n",
              "    <tr>\n",
              "      <th>Sunflower</th>\n",
              "      <td>7244</td>\n",
              "    </tr>\n",
              "    <tr>\n",
              "      <th>Small millets</th>\n",
              "      <td>6985</td>\n",
              "    </tr>\n",
              "    <tr>\n",
              "      <th>Cotton(lint)</th>\n",
              "      <td>6475</td>\n",
              "    </tr>\n",
              "    <tr>\n",
              "      <th>Masoor</th>\n",
              "      <td>6383</td>\n",
              "    </tr>\n",
              "    <tr>\n",
              "      <th>Linseed</th>\n",
              "      <td>5892</td>\n",
              "    </tr>\n",
              "    <tr>\n",
              "      <th>Barley</th>\n",
              "      <td>5891</td>\n",
              "    </tr>\n",
              "    <tr>\n",
              "      <th>Ragi</th>\n",
              "      <td>5757</td>\n",
              "    </tr>\n",
              "    <tr>\n",
              "      <th>Sweet potato</th>\n",
              "      <td>5742</td>\n",
              "    </tr>\n",
              "    <tr>\n",
              "      <th>Other Kharif pulses</th>\n",
              "      <td>5720</td>\n",
              "    </tr>\n",
              "    <tr>\n",
              "      <th>Turmeric</th>\n",
              "      <td>5607</td>\n",
              "    </tr>\n",
              "    <tr>\n",
              "      <th>Horse-gram</th>\n",
              "      <td>5424</td>\n",
              "    </tr>\n",
              "    <tr>\n",
              "      <th>Garlic</th>\n",
              "      <td>5279</td>\n",
              "    </tr>\n",
              "    <tr>\n",
              "      <th>Coriander</th>\n",
              "      <td>5037</td>\n",
              "    </tr>\n",
              "    <tr>\n",
              "      <th>Soyabean</th>\n",
              "      <td>4988</td>\n",
              "    </tr>\n",
              "    <tr>\n",
              "      <th>Other  Rabi pulses</th>\n",
              "      <td>4866</td>\n",
              "    </tr>\n",
              "    <tr>\n",
              "      <th>Castor seed</th>\n",
              "      <td>4681</td>\n",
              "    </tr>\n",
              "    <tr>\n",
              "      <th>Ginger</th>\n",
              "      <td>4439</td>\n",
              "    </tr>\n",
              "    <tr>\n",
              "      <th>Banana</th>\n",
              "      <td>4140</td>\n",
              "    </tr>\n",
              "    <tr>\n",
              "      <th>Tobacco</th>\n",
              "      <td>3936</td>\n",
              "    </tr>\n",
              "    <tr>\n",
              "      <th>Sannhamp</th>\n",
              "      <td>3017</td>\n",
              "    </tr>\n",
              "    <tr>\n",
              "      <th>Coconut</th>\n",
              "      <td>2927</td>\n",
              "    </tr>\n",
              "    <tr>\n",
              "      <th>Niger seed</th>\n",
              "      <td>2920</td>\n",
              "    </tr>\n",
              "    <tr>\n",
              "      <th>Mesta</th>\n",
              "      <td>2414</td>\n",
              "    </tr>\n",
              "    <tr>\n",
              "      <th>Tapioca</th>\n",
              "      <td>2268</td>\n",
              "    </tr>\n",
              "    <tr>\n",
              "      <th>Arecanut</th>\n",
              "      <td>2192</td>\n",
              "    </tr>\n",
              "    <tr>\n",
              "      <th>Guar seed</th>\n",
              "      <td>2088</td>\n",
              "    </tr>\n",
              "    <tr>\n",
              "      <th>Jute</th>\n",
              "      <td>1913</td>\n",
              "    </tr>\n",
              "    <tr>\n",
              "      <th>Safflower</th>\n",
              "      <td>1763</td>\n",
              "    </tr>\n",
              "    <tr>\n",
              "      <th>Cowpea(Lobia)</th>\n",
              "      <td>1761</td>\n",
              "    </tr>\n",
              "    <tr>\n",
              "      <th>Khesari</th>\n",
              "      <td>1759</td>\n",
              "    </tr>\n",
              "    <tr>\n",
              "      <th>Cashewnut</th>\n",
              "      <td>1573</td>\n",
              "    </tr>\n",
              "    <tr>\n",
              "      <th>Moth</th>\n",
              "      <td>1489</td>\n",
              "    </tr>\n",
              "    <tr>\n",
              "      <th>Black pepper</th>\n",
              "      <td>1417</td>\n",
              "    </tr>\n",
              "    <tr>\n",
              "      <th>Other Cereals</th>\n",
              "      <td>1387</td>\n",
              "    </tr>\n",
              "    <tr>\n",
              "      <th>other oilseeds</th>\n",
              "      <td>1240</td>\n",
              "    </tr>\n",
              "    <tr>\n",
              "      <th>Cardamom</th>\n",
              "      <td>575</td>\n",
              "    </tr>\n",
              "    <tr>\n",
              "      <th>Oilseeds total</th>\n",
              "      <td>435</td>\n",
              "    </tr>\n",
              "    <tr>\n",
              "      <th>Other Summer Pulses</th>\n",
              "      <td>67</td>\n",
              "    </tr>\n",
              "  </tbody>\n",
              "</table>\n",
              "</div><br><label><b>dtype:</b> int64</label>"
            ]
          },
          "metadata": {},
          "execution_count": 7
        }
      ]
    },
    {
      "cell_type": "code",
      "source": [
        "pivot_df = data.pivot_table(\n",
        "    index='Crop',\n",
        "    columns='Crop_Year',\n",
        "    values='Yield',\n",
        "    aggfunc='mean'\n",
        ").reset_index()\n"
      ],
      "metadata": {
        "colab": {
          "base_uri": "https://localhost:8080/"
        },
        "collapsed": true,
        "id": "v8cvgynWrN6k",
        "outputId": "8a8316e6-456e-4066-e245-6a5e07be9d5e"
      },
      "execution_count": 8,
      "outputs": [
        {
          "output_type": "stream",
          "name": "stdout",
          "text": [
            "Crop_Year                   Crop         1997         1998         1999  \\\n",
            "0                       Arecanut     1.199600     2.310244     1.147903   \n",
            "1                      Arhar/Tur     0.665933     0.907288     0.851807   \n",
            "2                          Bajra     1.012835     1.008194     0.985046   \n",
            "3                         Banana    28.935814    25.013651    20.807047   \n",
            "4                         Barley     1.746478     1.685547     1.808233   \n",
            "5                   Black pepper     0.312273     0.823143     0.923714   \n",
            "6                       Cardamom     0.051250     0.068000     0.074545   \n",
            "7                      Cashewnut     0.589286     0.329429     0.545854   \n",
            "8                    Castor seed     1.026923     0.839006     0.602739   \n",
            "9                       Coconut   7540.584561  6777.567976  7228.893068   \n",
            "10                     Coriander     0.367407     0.557500     0.423158   \n",
            "11                  Cotton(lint)    17.196159     1.088898     1.312288   \n",
            "12                 Cowpea(Lobia)          NaN          NaN          NaN   \n",
            "13                  Dry chillies     1.198211     1.083742     0.906500   \n",
            "14                        Garlic     2.231094     2.410769     2.774144   \n",
            "15                        Ginger     2.110732     5.548017     4.117288   \n",
            "16                          Gram     0.724878     0.796220     0.746860   \n",
            "17                     Groundnut     1.042597     1.045798     1.081967   \n",
            "18                     Guar seed          NaN          NaN     5.787193   \n",
            "19                    Horse-gram     0.387273     0.406087     0.448671   \n",
            "20                         Jowar     0.896791     0.912034     0.918702   \n",
            "21                          Jute     8.534487     7.807143     8.605949   \n",
            "22                       Khesari     1.095882     0.774667     0.890196   \n",
            "23                       Linseed     0.452051     0.442246     0.458386   \n",
            "24                         Maize    11.570043     1.626735     1.741369   \n",
            "25                        Masoor     0.748667     0.731677     0.639862   \n",
            "26                         Mesta     6.766133     5.880843     5.302233   \n",
            "27             Moong(Green Gram)     0.416107     0.367915     0.446103   \n",
            "28                          Moth     0.613043     0.240625     0.181791   \n",
            "29                    Niger seed     0.575000     0.404000     0.308417   \n",
            "30                Oilseeds total     0.950769     1.185000     0.943077   \n",
            "31                         Onion     9.358118    10.048323    11.009407   \n",
            "32            Other  Rabi pulses     0.566842     0.710875     0.548446   \n",
            "33                 Other Cereals          NaN     0.724490     0.282857   \n",
            "34           Other Kharif pulses     0.566765     0.461908     0.322588   \n",
            "35           Other Summer Pulses          NaN          NaN          NaN   \n",
            "36         Peas & beans (Pulses)     1.272353     2.413624     1.188495   \n",
            "37                        Potato    11.660086    13.148118    13.968855   \n",
            "38                          Ragi     0.915165     1.178071     1.155785   \n",
            "39             Rapeseed &Mustard     0.706419     0.696843     0.752041   \n",
            "40                          Rice     2.098362     1.805280     1.849395   \n",
            "41                     Safflower     0.598846     0.584545     0.491238   \n",
            "42                      Sannhamp     1.156735     0.617466     2.001228   \n",
            "43                       Sesamum     0.348262     0.321694     0.358970   \n",
            "44                 Small millets     0.689900     0.598675     0.603238   \n",
            "45                      Soyabean     1.037874     0.980542     1.011472   \n",
            "46                     Sugarcane    54.620621    54.147923    56.440167   \n",
            "47                     Sunflower     0.914335     0.739354     0.776505   \n",
            "48                  Sweet potato     8.841014     8.625481     7.448326   \n",
            "49                       Tapioca    10.499792    19.656316    16.394583   \n",
            "50                       Tobacco     0.959000     2.676203     2.228187   \n",
            "51                      Turmeric     2.056344     2.442103     2.185311   \n",
            "52                          Urad     0.503512     0.438490     0.473433   \n",
            "53                         Wheat     1.904268     1.936861     2.112391   \n",
            "54                other oilseeds          NaN     1.085000          NaN   \n",
            "\n",
            "Crop_Year         2000         2001         2002         2003         2004  \\\n",
            "0             1.296932     1.266023     1.194868     1.068198     1.248906   \n",
            "1             0.719673     0.747137     0.648915     0.807392     0.770871   \n",
            "2             2.527306     2.538164     2.383408     2.674526     2.456056   \n",
            "3            19.099773    19.022857    19.017526    24.178202    26.075922   \n",
            "4             1.523626     1.754577     1.673205     1.707004     1.652269   \n",
            "5             0.884118     1.133448     1.069355     0.779286     1.009744   \n",
            "6             0.061818     0.072500     0.075556     0.077143     0.072667   \n",
            "7             0.343898     0.434000     0.395522     0.429851     0.382344   \n",
            "8             0.570082     0.603085     0.502915     0.699776     0.629028   \n",
            "9          7421.349633  7457.813981  7606.901111  7538.292741  8641.868087   \n",
            "10            0.404802     0.485808     0.404860     0.499862     0.598054   \n",
            "11            1.307055     1.167401     1.220989     1.558638     1.549887   \n",
            "12                 NaN          NaN          NaN          NaN          NaN   \n",
            "13            0.970872     1.037735     0.923100     1.122688     1.365876   \n",
            "14            2.988791     3.175381     2.897727     3.213380     3.382351   \n",
            "15            3.755573     3.584241     3.804828     3.652549     3.833981   \n",
            "16            0.742998     0.793575     0.727545     0.825939     0.767851   \n",
            "17            1.047082     1.117527     0.978333     1.128086     1.100653   \n",
            "18            0.219535     0.671220     0.228636     0.264583     0.756471   \n",
            "19            0.433350     0.447967     0.368333     0.381299     0.406396   \n",
            "20            0.837506     0.884989     0.849770     1.041133     0.906333   \n",
            "21            8.808400     9.500822     9.807059    10.059014     9.123836   \n",
            "22            0.789552     0.728657     0.714328     0.824348     0.607000   \n",
            "23            0.434105     0.494311     0.474014     0.518116     0.506605   \n",
            "24            1.835827     1.922236     1.679694     1.861928     2.057613   \n",
            "25            0.737892     0.707261     0.674561     0.748595     0.576636   \n",
            "26            4.903058     5.039565     5.237033     5.649535     5.611978   \n",
            "27            0.410408     0.400775     0.398990     0.458076     0.380163   \n",
            "28            0.183281     0.317595     0.286143     0.387753     0.238200   \n",
            "29            0.328867     0.362857     0.316232     0.340073     0.340507   \n",
            "30            1.003846     1.021538     1.007333     0.991333     1.044667   \n",
            "31            9.928328    10.610064    10.201076    11.259804    11.152610   \n",
            "32            0.516115     0.505702     0.462569     0.528974     0.756542   \n",
            "33            0.656957     0.574118     0.625000     1.051000     0.642174   \n",
            "34            0.383430     0.401914     0.354728     0.455500     0.407676   \n",
            "35                 NaN          NaN          NaN          NaN          NaN   \n",
            "36            1.034885     1.310145     0.935508     1.058244     0.681227   \n",
            "37           13.266568    13.876454    13.339359    12.443099    12.526864   \n",
            "38            1.188645     1.196714     0.977976     1.053108     1.084226   \n",
            "39            0.648505     0.732563     0.616644     0.743138     0.753601   \n",
            "40            1.782116     1.909950     1.713956     1.917087     1.852887   \n",
            "41            0.475114     0.464851     0.446146     0.360700     0.454574   \n",
            "42            1.398571     1.234000     0.841897     1.010635     0.681449   \n",
            "43            0.329980     0.369323     0.320272     0.372124     0.355335   \n",
            "44            0.577868     0.621638     0.573436     0.741329     0.546965   \n",
            "45            0.834233     0.945784     0.786033     1.139465     0.970583   \n",
            "46           52.122144    54.078207    50.388184    50.980797    52.245210   \n",
            "47            0.747240     0.949802     0.833399     0.892393     0.940328   \n",
            "48            8.222010     6.712884     7.769844     7.843774     8.538133   \n",
            "49           17.565333    10.391607    16.035937    17.309184    26.639692   \n",
            "50            1.739822     2.394402     2.265550     2.416075     2.428743   \n",
            "51            2.197743     1.952222     2.055056     2.186288     2.238030   \n",
            "52            0.425424     0.455830     0.410707     0.456190     0.430541   \n",
            "53            1.944944     2.029018     1.916790     1.981921     1.912613   \n",
            "54            0.496429     0.465556     0.600889     0.464694     0.570870   \n",
            "\n",
            "Crop_Year         2005  ...         2011         2012         2013  \\\n",
            "0             2.294545  ...     2.735400     3.185135     3.108431   \n",
            "1             0.779204  ...     0.857134     0.963475     0.931400   \n",
            "2             2.574406  ...     3.626187     2.277224     3.870858   \n",
            "3            26.212315  ...    28.132985    24.947120    30.551798   \n",
            "4             1.643414  ...     2.113285     2.009928     2.221894   \n",
            "5             0.783556  ...     0.746203     1.533788     1.224023   \n",
            "6             0.072000  ...     0.067200     0.082667     0.087308   \n",
            "7             0.400635  ...     0.511149     0.621250     0.534674   \n",
            "8             0.728060  ...     0.792650     0.709740     0.828981   \n",
            "9          8386.268478  ...  9975.140199  9173.956372  8837.767551   \n",
            "10            0.560243  ...     0.551314     0.559528     0.577638   \n",
            "11            1.536082  ...     2.085311     1.935986     2.349194   \n",
            "12                 NaN  ...     0.714909     0.603475     0.686316   \n",
            "13            1.254192  ...     1.546573     2.008528     1.674484   \n",
            "14            3.571701  ...     3.592196     3.963473     4.534731   \n",
            "15            5.317042  ...     4.609722     7.372228     7.305735   \n",
            "16            0.829399  ...     0.948946     1.000485     0.904790   \n",
            "17            1.189296  ...     1.419949     1.427250     1.533139   \n",
            "18            0.705500  ...     0.773056     1.022500     0.814919   \n",
            "19            0.434134  ...     0.486935     0.483439     0.524391   \n",
            "20            1.018310  ...     1.218115     1.205110     1.209772   \n",
            "21           10.985616  ...     9.051047     8.862625     9.960778   \n",
            "22            0.686143  ...     0.872277     0.899307     0.845900   \n",
            "23            0.514358  ...     0.646917     0.601333     0.572282   \n",
            "24            1.877454  ...     2.454270     2.450684     2.762296   \n",
            "25            0.630136  ...     0.765200     0.818212     0.816788   \n",
            "26            6.597629  ...     5.316000     3.971538     6.316271   \n",
            "27            0.416910  ...     0.483356     0.508005     0.530117   \n",
            "28            0.285556  ...     0.449538     0.468254     0.376923   \n",
            "29            0.338203  ...     0.309365     0.344955     1.096916   \n",
            "30            0.955333  ...     1.106111     1.098333     1.056316   \n",
            "31           11.412689  ...    12.677806    12.769802    14.244719   \n",
            "32            0.619947  ...     0.682111     0.596747     0.800324   \n",
            "33            0.840588  ...     0.780588     1.148696     0.899286   \n",
            "34            0.450742  ...     0.575698     0.571984     0.585385   \n",
            "35                 NaN  ...          NaN          NaN          NaN   \n",
            "36            1.702937  ...     1.901421     1.044499     1.426518   \n",
            "37           12.011219  ...    12.783724    13.265842    12.732704   \n",
            "38            1.210819  ...     1.406716     1.145061     1.518340   \n",
            "39            0.746130  ...     0.892393     0.935010     0.927168   \n",
            "40            1.865280  ...     2.139593     2.181647     2.287649   \n",
            "41            0.540429  ...     0.565000     0.554921     0.685469   \n",
            "42            0.752867  ...     1.203926     1.102222     1.107351   \n",
            "43            0.389185  ...     0.427090     1.536887     0.431455   \n",
            "44            0.669934  ...     0.674211     0.640557     0.697796   \n",
            "45            1.001063  ...     1.137269     1.283591     1.110485   \n",
            "46           53.457236  ...    54.425270    55.889788    58.685889   \n",
            "47            0.920550  ...     1.004479     0.860108     1.024020   \n",
            "48            9.778163  ...     9.158340     8.829225     9.675725   \n",
            "49           18.590538  ...    20.657105    15.667805    20.219829   \n",
            "50            2.418021  ...     2.427391     2.612733     2.772042   \n",
            "51            3.019384  ...     3.165779     2.824522     3.355077   \n",
            "52            0.469783  ...     0.540421     0.565573     0.560626   \n",
            "53            1.856118  ...     2.470450     2.498185     2.450452   \n",
            "54            0.549048  ...     3.573836     0.512979     3.359344   \n",
            "\n",
            "Crop_Year         2014         2015         2016         2017         2018  \\\n",
            "0             3.057941     3.123824     3.106038     3.492264     3.124324   \n",
            "1             0.873800     0.852647     0.984955     1.017455     0.931957   \n",
            "2             3.918182     2.808144     2.715749     2.437913     2.375741   \n",
            "3            30.698012    33.140302    34.555814    41.185950    42.194100   \n",
            "4             1.753862     1.994661     2.433208     2.362792     2.470463   \n",
            "5             0.854118     0.895889     0.911429     1.021124     0.962558   \n",
            "6             0.087308     0.348800     0.090000     0.097500     0.097353   \n",
            "7             0.597253     0.533222     0.466304     0.608723     0.712233   \n",
            "8             0.850303     0.790545     0.796262     0.920142     0.732708   \n",
            "9          9445.158919  9593.918276  9715.823643  9523.780479  9779.502245   \n",
            "10            0.674360     1.047004     0.851585     1.043007     1.168576   \n",
            "11            2.255791     1.867853     2.088088     1.973642     2.066882   \n",
            "12            0.723576     0.843161     0.725089     0.783005     0.752605   \n",
            "13            1.653220     1.852566     2.175632     2.189507     2.168622   \n",
            "14            5.856364     6.079695     5.660066     5.497095     6.305362   \n",
            "15            9.010000    11.218426    10.256286    10.497719     9.211594   \n",
            "16            0.863414     0.849632     1.059184     1.120562     1.121257   \n",
            "17            1.527758     1.411877     1.529230     1.654678     1.605446   \n",
            "18            0.796063     0.706055     0.733106     0.699441     0.727719   \n",
            "19            0.561842     0.526830     0.454404     0.575680     0.564710   \n",
            "20            1.291411     1.095750     1.075647     1.266321     1.178817   \n",
            "21           10.348214    10.028488    10.044138     9.946706     8.846930   \n",
            "22            0.952500     0.783514     1.176835     0.810253     0.782439   \n",
            "23            0.601402     0.536858     0.659641     0.608659     0.640327   \n",
            "24            2.716938     2.548978     2.721043     3.083747     2.904903   \n",
            "25            0.745821     0.800602     0.832492     0.863693     0.841102   \n",
            "26            6.497431     7.368119     4.440084     4.537449     4.440708   \n",
            "27            0.532056     0.536088     0.591100     0.640045     0.605588   \n",
            "28            0.416140     0.460000     0.406154     0.503860     0.306066   \n",
            "29            0.460320     0.436434     0.441493     0.446688     0.387029   \n",
            "30            1.029474     2.836061     2.863846     4.547308     2.920000   \n",
            "31           12.341934    12.290373    14.332986    22.185065    19.200113   \n",
            "32            0.743804     0.858232     0.804220     0.850038     0.849707   \n",
            "33            0.611471     0.650000     0.713554     0.780127     0.883221   \n",
            "34            0.705169     0.716779     0.715447     0.709643     0.736875   \n",
            "35                 NaN          NaN     0.688889     0.488750     0.489231   \n",
            "36            1.417016     1.508477     1.636402     1.707146     1.730217   \n",
            "37           13.224549    13.078044    14.325481    15.067213    15.131735   \n",
            "38            1.613712     1.492344     1.230258     1.695594     1.503248   \n",
            "39            0.857146     0.863561     0.939630     0.983986     0.966721   \n",
            "40            2.338000     2.198138     2.427852     2.534707     2.501580   \n",
            "41            0.609242     0.466901     0.634909     0.591667     0.505823   \n",
            "42            0.857195     0.791489     0.774100    12.674884     0.629020   \n",
            "43            0.468827     0.437492     1.299458     0.511650     0.475228   \n",
            "44            0.784677     0.753528     0.743819     0.936328     0.844984   \n",
            "45            1.055297     0.893633     1.218857     1.145959     1.174794   \n",
            "46           59.446567    58.808130    58.649612    61.259128    60.530852   \n",
            "47            1.050427     0.915358     0.884590     1.107926     0.999163   \n",
            "48            9.955289    10.485992    10.092074    11.587409    11.893979   \n",
            "49           20.698814    19.091066    18.340992    20.252602    20.176061   \n",
            "50            2.486337     2.935152     2.452381     2.965890     8.055955   \n",
            "51            3.906875     6.081353     5.912295     6.243932     6.110495   \n",
            "52            0.590623     0.568970     0.664191     0.680083     0.663727   \n",
            "53            2.168508     2.318558     2.644335     2.705488     2.720962   \n",
            "54            4.432807     0.962500     0.619861     2.731294     2.909512   \n",
            "\n",
            "Crop_Year         2019       2020  \n",
            "0             3.478966        NaN  \n",
            "1             1.027064   0.870000  \n",
            "2             2.362690        NaN  \n",
            "3            40.108079        NaN  \n",
            "4             2.489142   1.366923  \n",
            "5             0.941042        NaN  \n",
            "6             0.094324        NaN  \n",
            "7             0.761111        NaN  \n",
            "8             0.932042        NaN  \n",
            "9          9121.621835        NaN  \n",
            "10            1.147484        NaN  \n",
            "11            2.331405        NaN  \n",
            "12            0.701197        NaN  \n",
            "13            2.013554        NaN  \n",
            "14            5.996792   6.603478  \n",
            "15            9.128852        NaN  \n",
            "16            1.100785   0.748182  \n",
            "17            1.756060   1.521667  \n",
            "18            0.746406        NaN  \n",
            "19            0.655644   0.969091  \n",
            "20            1.179770        NaN  \n",
            "21           10.634699        NaN  \n",
            "22            0.681882        NaN  \n",
            "23            0.686007        NaN  \n",
            "24            3.117563   2.008824  \n",
            "25            0.821036   0.751538  \n",
            "26            4.081043        NaN  \n",
            "27            0.620840   0.828000  \n",
            "28            0.448387   0.570000  \n",
            "29            0.318714        NaN  \n",
            "30            5.124231        NaN  \n",
            "31           15.388445  14.184615  \n",
            "32            0.806231   0.763333  \n",
            "33            0.965145   0.662500  \n",
            "34            0.731934   1.083333  \n",
            "35            0.505500        NaN  \n",
            "36            1.792454   0.669231  \n",
            "37           14.941163  11.009130  \n",
            "38            1.552704   1.589091  \n",
            "39            0.982625   0.693846  \n",
            "40            2.606026   2.368750  \n",
            "41            0.673735        NaN  \n",
            "42            1.205969        NaN  \n",
            "43            0.493276   0.240833  \n",
            "44            0.863588   1.480909  \n",
            "45            1.098475   1.214167  \n",
            "46           62.048812  81.540000  \n",
            "47            1.052878   0.723333  \n",
            "48           12.237899        NaN  \n",
            "49           21.736716        NaN  \n",
            "50            2.497921   2.000000  \n",
            "51            5.867508   2.808333  \n",
            "52            0.683467   1.134375  \n",
            "53            2.706513   2.216154  \n",
            "54            1.753333   0.696250  \n",
            "\n",
            "[55 rows x 25 columns]\n"
          ]
        }
      ]
    },
    {
      "cell_type": "code",
      "source": [
        "pivot_df.columns"
      ],
      "metadata": {
        "colab": {
          "base_uri": "https://localhost:8080/"
        },
        "id": "qVc008Utrb07",
        "outputId": "cb37c1d9-b214-4dff-e0a6-785d5bcdf26d"
      },
      "execution_count": 9,
      "outputs": [
        {
          "output_type": "execute_result",
          "data": {
            "text/plain": [
              "Index(['Crop',   1997,   1998,   1999,   2000,   2001,   2002,   2003,   2004,\n",
              "         2005,   2006,   2007,   2008,   2009,   2010,   2011,   2012,   2013,\n",
              "         2014,   2015,   2016,   2017,   2018,   2019,   2020],\n",
              "      dtype='object', name='Crop_Year')"
            ]
          },
          "metadata": {},
          "execution_count": 9
        }
      ]
    },
    {
      "cell_type": "code",
      "source": [
        "pivot_df.info()"
      ],
      "metadata": {
        "colab": {
          "base_uri": "https://localhost:8080/"
        },
        "collapsed": true,
        "id": "FiLORF1krfnH",
        "outputId": "b1ae4c8b-0130-43af-b43c-3921bc32f9d0"
      },
      "execution_count": 11,
      "outputs": [
        {
          "output_type": "stream",
          "name": "stdout",
          "text": [
            "<class 'pandas.core.frame.DataFrame'>\n",
            "RangeIndex: 55 entries, 0 to 54\n",
            "Data columns (total 25 columns):\n",
            " #   Column  Non-Null Count  Dtype  \n",
            "---  ------  --------------  -----  \n",
            " 0   Crop    55 non-null     object \n",
            " 1   1997    50 non-null     float64\n",
            " 2   1998    52 non-null     float64\n",
            " 3   1999    52 non-null     float64\n",
            " 4   2000    53 non-null     float64\n",
            " 5   2001    53 non-null     float64\n",
            " 6   2002    53 non-null     float64\n",
            " 7   2003    53 non-null     float64\n",
            " 8   2004    53 non-null     float64\n",
            " 9   2005    53 non-null     float64\n",
            " 10  2006    54 non-null     float64\n",
            " 11  2007    53 non-null     float64\n",
            " 12  2008    54 non-null     float64\n",
            " 13  2009    54 non-null     float64\n",
            " 14  2010    54 non-null     float64\n",
            " 15  2011    54 non-null     float64\n",
            " 16  2012    54 non-null     float64\n",
            " 17  2013    54 non-null     float64\n",
            " 18  2014    54 non-null     float64\n",
            " 19  2015    54 non-null     float64\n",
            " 20  2016    55 non-null     float64\n",
            " 21  2017    55 non-null     float64\n",
            " 22  2018    55 non-null     float64\n",
            " 23  2019    55 non-null     float64\n",
            " 24  2020    29 non-null     float64\n",
            "dtypes: float64(24), object(1)\n",
            "memory usage: 10.9+ KB\n"
          ]
        }
      ]
    },
    {
      "cell_type": "code",
      "source": [
        "pivot_df = pivot_df.set_index('Crop')"
      ],
      "metadata": {
        "id": "aLz9Wnqnr4y1"
      },
      "execution_count": 12,
      "outputs": []
    },
    {
      "cell_type": "code",
      "source": [
        "pivot_df.columns"
      ],
      "metadata": {
        "colab": {
          "base_uri": "https://localhost:8080/"
        },
        "id": "6l-hpV2mr6xY",
        "outputId": "6dcd72e9-bf7b-40f0-9b9d-8405ba1473c4"
      },
      "execution_count": 13,
      "outputs": [
        {
          "output_type": "execute_result",
          "data": {
            "text/plain": [
              "Index([1997, 1998, 1999, 2000, 2001, 2002, 2003, 2004, 2005, 2006, 2007, 2008,\n",
              "       2009, 2010, 2011, 2012, 2013, 2014, 2015, 2016, 2017, 2018, 2019, 2020],\n",
              "      dtype='object', name='Crop_Year')"
            ]
          },
          "metadata": {},
          "execution_count": 13
        }
      ]
    },
    {
      "cell_type": "code",
      "source": [
        "pivot_df = pivot_df.reindex(columns=pivot_df.columns.to_list())\n",
        "pivot_df = pivot_df.reset_index()"
      ],
      "metadata": {
        "id": "GdWnhV1hr1Gn"
      },
      "execution_count": 14,
      "outputs": []
    },
    {
      "cell_type": "code",
      "source": [
        "pivot_df.columns"
      ],
      "metadata": {
        "colab": {
          "base_uri": "https://localhost:8080/"
        },
        "id": "teQU7QLisAfh",
        "outputId": "a640ec42-74f6-4951-d75b-df9be8658c38"
      },
      "execution_count": 16,
      "outputs": [
        {
          "output_type": "execute_result",
          "data": {
            "text/plain": [
              "Index(['Crop',   1997,   1998,   1999,   2000,   2001,   2002,   2003,   2004,\n",
              "         2005,   2006,   2007,   2008,   2009,   2010,   2011,   2012,   2013,\n",
              "         2014,   2015,   2016,   2017,   2018,   2019,   2020],\n",
              "      dtype='object', name='Crop_Year')"
            ]
          },
          "metadata": {},
          "execution_count": 16
        }
      ]
    },
    {
      "cell_type": "code",
      "source": [
        "pivot_df[2011].hist()"
      ],
      "metadata": {
        "colab": {
          "base_uri": "https://localhost:8080/",
          "height": 447
        },
        "id": "IYKS9FAppPmM",
        "outputId": "852927b2-84e3-4f0a-a32b-0726411f2bbf"
      },
      "execution_count": 17,
      "outputs": [
        {
          "output_type": "execute_result",
          "data": {
            "text/plain": [
              "<Axes: >"
            ]
          },
          "metadata": {},
          "execution_count": 17
        },
        {
          "output_type": "display_data",
          "data": {
            "text/plain": [
              "<Figure size 640x480 with 1 Axes>"
            ],
            "image/png": "[encoded data removed]"
          },
          "metadata": {}
        }
      ]
    },
    {
      "cell_type": "code",
      "source": [
        "pivot_df[2012].hist()"
      ],
      "metadata": {
        "colab": {
          "base_uri": "https://localhost:8080/",
          "height": 447
        },
        "id": "0JNYbGOGpSSX",
        "outputId": "a477b810-ba89-4b13-cdc7-0207e61ec423"
      },
      "execution_count": 19,
      "outputs": [
        {
          "output_type": "execute_result",
          "data": {
            "text/plain": [
              "<Axes: >"
            ]
          },
          "metadata": {},
          "execution_count": 19
        },
        {
          "output_type": "display_data",
          "data": {
            "text/plain": [
              "<Figure size 640x480 with 1 Axes>"
            ],
            "image/png": "[encoded data removed]"
          },
          "metadata": {}
        }
      ]
    },
    {
      "cell_type": "code",
      "source": [
        "pivot_df[2013].hist()\n"
      ],
      "metadata": {
        "colab": {
          "base_uri": "https://localhost:8080/",
          "height": 447
        },
        "id": "_ywCbfXepUhn",
        "outputId": "4e0ad42e-4aa3-4478-dba5-e63f968ac134"
      },
      "execution_count": 20,
      "outputs": [
        {
          "output_type": "execute_result",
          "data": {
            "text/plain": [
              "<Axes: >"
            ]
          },
          "metadata": {},
          "execution_count": 20
        },
        {
          "output_type": "display_data",
          "data": {
            "text/plain": [
              "<Figure size 640x480 with 1 Axes>"
            ],
            "image/png": "[encoded data removed]"
          },
          "metadata": {}
        }
      ]
    },
    {
      "cell_type": "code",
      "source": [
        "data.hist()"
      ],
      "metadata": {
        "id": "nRpoI3qFpWlX"
      },
      "execution_count": null,
      "outputs": []
    },
    {
      "cell_type": "code",
      "source": [
        "import seaborn as sns\n",
        "\n",
        "sns.set_style(\"whitegrid\")\n",
        "\n",
        "sns.boxplot(x=2013, y=2014, data=pivot_df)"
      ],
      "metadata": {
        "colab": {
          "base_uri": "https://localhost:8080/",
          "height": 466
        },
        "id": "8MH_rQmLpYiL",
        "outputId": "fcd3d65e-2428-45ce-8dcd-b71f96238b16"
      },
      "execution_count": 21,
      "outputs": [
        {
          "output_type": "execute_result",
          "data": {
            "text/plain": [
              "<Axes: xlabel='2013', ylabel='2014'>"
            ]
          },
          "metadata": {},
          "execution_count": 21
        },
        {
          "output_type": "display_data",
          "data": {
            "text/plain": [
              "<Figure size 640x480 with 1 Axes>"
            ],
            "image/png": "[encoded data removed]"
          },
          "metadata": {}
        }
      ]
    },
    {
      "cell_type": "code",
      "source": [
        "import matplotlib.pyplot as plt\n",
        "\n",
        "plt.scatter(pivot_df[2013],pivot_df[2014])\n",
        "\n",
        "plt.show()"
      ],
      "metadata": {
        "colab": {
          "base_uri": "https://localhost:8080/",
          "height": 430
        },
        "id": "HWhk_XLhpcSf",
        "outputId": "ae834232-f58e-41d5-fb90-b2078b4a9b12"
      },
      "execution_count": 23,
      "outputs": [
        {
          "output_type": "display_data",
          "data": {
            "text/plain": [
              "<Figure size 640x480 with 1 Axes>"
            ],
            "image/png": "[encoded data removed]"
          },
          "metadata": {}
        }
      ]
    },
    {
      "cell_type": "code",
      "source": [
        "plt.plot(pivot_df[2013],pivot_df[2014])\n",
        "\n",
        "plt.show()"
      ],
      "metadata": {
        "colab": {
          "base_uri": "https://localhost:8080/",
          "height": 430
        },
        "id": "KjKocQq4peIz",
        "outputId": "17adc806-4d30-4453-ae80-f65938d9c482"
      },
      "execution_count": 24,
      "outputs": [
        {
          "output_type": "display_data",
          "data": {
            "text/plain": [
              "<Figure size 640x480 with 1 Axes>"
            ],
            "image/png": "[encoded data removed]"
          },
          "metadata": {}
        }
      ]
    },
    {
      "cell_type": "code",
      "source": [
        "import matplotlib.pyplot as plt\n",
        "from scipy import stats\n",
        "\n",
        "\n",
        "x = pivot_df[2017]\n",
        "y = pivot_df[2018]\n",
        "\n",
        "\n",
        "slope, intercept, r, p, std_err = stats.linregress(x, y)\n",
        "\n",
        "\n",
        "def myfunc(x):\n",
        "    return slope * x + intercept\n",
        "\n",
        "\n",
        "mymodel = list(map(myfunc, x))\n",
        "\n",
        "plt.scatter(x, y)\n",
        "\n",
        "plt.plot(x, mymodel)\n",
        "\n",
        "plt.show()"
      ],
      "metadata": {
        "colab": {
          "base_uri": "https://localhost:8080/",
          "height": 430
        },
        "id": "-FSYft4kpfyL",
        "outputId": "25fc47a3-d6bc-4093-e0f9-b1c8c339d55d"
      },
      "execution_count": 25,
      "outputs": [
        {
          "output_type": "display_data",
          "data": {
            "text/plain": [
              "<Figure size 640x480 with 1 Axes>"
            ],
            "image/png": "[encoded data removed]"
          },
          "metadata": {}
        }
      ]
    },
    {
      "cell_type": "code",
      "source": [
        "x = pivot_df[2016]\n",
        "y = pivot_df[2017]\n",
        "\n",
        "\n",
        "slope, intercept, r, p, std_err = stats.linregress(x, y)\n",
        "\n",
        "\n",
        "def myfunc(x):\n",
        "    return slope * x + intercept\n",
        "\n",
        "\n",
        "mymodel = list(map(myfunc, x))\n",
        "\n",
        "plt.scatter(x, y)\n",
        "\n",
        "plt.plot(x, mymodel)\n",
        "\n",
        "plt.show()"
      ],
      "metadata": {
        "colab": {
          "base_uri": "https://localhost:8080/",
          "height": 435
        },
        "id": "aMVk5hm_pilW",
        "outputId": "567f7187-d429-43d6-f58a-0235c7973f35"
      },
      "execution_count": 27,
      "outputs": [
        {
          "output_type": "display_data",
          "data": {
            "text/plain": [
              "<Figure size 640x480 with 1 Axes>"
            ],
            "image/png": "[encoded data removed]"
          },
          "metadata": {}
        }
      ]
    },
    {
      "cell_type": "code",
      "source": [],
      "metadata": {
        "id": "-lfNA9Tapmqj"
      },
      "execution_count": null,
      "outputs": []
    }
  ]
}