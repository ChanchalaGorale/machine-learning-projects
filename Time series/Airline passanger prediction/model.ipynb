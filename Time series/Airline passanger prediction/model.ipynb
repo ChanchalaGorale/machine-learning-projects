{
  "nbformat": 4,
  "nbformat_minor": 0,
  "metadata": {
    "colab": {
      "provenance": []
    },
    "kernelspec": {
      "name": "python3",
      "display_name": "Python 3"
    },
    "language_info": {
      "name": "python"
    }
  },
  "cells": [
    {
      "cell_type": "markdown",
      "source": [
        " # Airline Passenger Timeseries Forecasting"
      ],
      "metadata": {
        "id": "VOFZZ-kbP6O1"
      }
    },
    {
      "cell_type": "code",
      "source": [
        "import numpy as np\n",
        "import pandas as pd\n",
        "import matplotlib.pyplot as plt\n",
        "import math\n",
        "import tensorflow.keras as ks\n",
        "\n",
        "from sklearn.preprocessing import MinMaxScaler\n",
        "from sklearn.metrics import mean_squared_error\n",
        "\n",
        "np.random.seed(9)"
      ],
      "metadata": {
        "id": "4Jpm17C2P562"
      },
      "execution_count": 28,
      "outputs": []
    },
    {
      "cell_type": "code",
      "source": [
        "df = pd.read_csv(\"/content/airline-passengers.csv\", usecols=[1], engine=\"python\")\n",
        "df.head()"
      ],
      "metadata": {
        "colab": {
          "base_uri": "https://localhost:8080/",
          "height": 206
        },
        "id": "KRmP196kWrBO",
        "outputId": "04e3089b-a947-42d3-ea11-fea8b8539b68"
      },
      "execution_count": 29,
      "outputs": [
        {
          "output_type": "execute_result",
          "data": {
            "text/plain": [
              "   Passengers\n",
              "0         112\n",
              "1         118\n",
              "2         132\n",
              "3         129\n",
              "4         121"
            ],
            "text/html": [
              "\n",
              "  <div id=\"df-276b1f2f-43b3-46b2-98d3-b2510e2cc804\" class=\"colab-df-container\">\n",
              "    <div>\n",
              "<style scoped>\n",
              "    .dataframe tbody tr th:only-of-type {\n",
              "        vertical-align: middle;\n",
              "    }\n",
              "\n",
              "    .dataframe tbody tr th {\n",
              "        vertical-align: top;\n",
              "    }\n",
              "\n",
              "    .dataframe thead th {\n",
              "        text-align: right;\n",
              "    }\n",
              "</style>\n",
              "<table border=\"1\" class=\"dataframe\">\n",
              "  <thead>\n",
              "    <tr style=\"text-align: right;\">\n",
              "      <th></th>\n",
              "      <th>Passengers</th>\n",
              "    </tr>\n",
              "  </thead>\n",
              "  <tbody>\n",
              "    <tr>\n",
              "      <th>0</th>\n",
              "      <td>112</td>\n",
              "    </tr>\n",
              "    <tr>\n",
              "      <th>1</th>\n",
              "      <td>118</td>\n",
              "    </tr>\n",
              "    <tr>\n",
              "      <th>2</th>\n",
              "      <td>132</td>\n",
              "    </tr>\n",
              "    <tr>\n",
              "      <th>3</th>\n",
              "      <td>129</td>\n",
              "    </tr>\n",
              "    <tr>\n",
              "      <th>4</th>\n",
              "      <td>121</td>\n",
              "    </tr>\n",
              "  </tbody>\n",
              "</table>\n",
              "</div>\n",
              "    <div class=\"colab-df-buttons\">\n",
              "\n",
              "  <div class=\"colab-df-container\">\n",
              "    <button class=\"colab-df-convert\" onclick=\"convertToInteractive('df-276b1f2f-43b3-46b2-98d3-b2510e2cc804')\"\n",
              "            title=\"Convert this dataframe to an interactive table.\"\n",
              "            style=\"display:none;\">\n",
              "\n",
              "  <svg xmlns=\"http://www.w3.org/2000/svg\" height=\"24px\" viewBox=\"0 -960 960 960\">\n",
              "    <path d=\"M120-120v-720h720v720H120Zm60-500h600v-160H180v160Zm220 220h160v-160H400v160Zm0 220h160v-160H400v160ZM180-400h160v-160H180v160Zm440 0h160v-160H620v160ZM180-180h160v-160H180v160Zm440 0h160v-160H620v160Z\"/>\n",
              "  </svg>\n",
              "    </button>\n",
              "\n",
              "  <style>\n",
              "    .colab-df-container {\n",
              "      display:flex;\n",
              "      gap: 12px;\n",
              "    }\n",
              "\n",
              "    .colab-df-convert {\n",
              "      background-color: #E8F0FE;\n",
              "      border: none;\n",
              "      border-radius: 50%;\n",
              "      cursor: pointer;\n",
              "      display: none;\n",
              "      fill: #1967D2;\n",
              "      height: 32px;\n",
              "      padding: 0 0 0 0;\n",
              "      width: 32px;\n",
              "    }\n",
              "\n",
              "    .colab-df-convert:hover {\n",
              "      background-color: #E2EBFA;\n",
              "      box-shadow: 0px 1px 2px rgba(60, 64, 67, 0.3), 0px 1px 3px 1px rgba(60, 64, 67, 0.15);\n",
              "      fill: #174EA6;\n",
              "    }\n",
              "\n",
              "    .colab-df-buttons div {\n",
              "      margin-bottom: 4px;\n",
              "    }\n",
              "\n",
              "    [theme=dark] .colab-df-convert {\n",
              "      background-color: #3B4455;\n",
              "      fill: #D2E3FC;\n",
              "    }\n",
              "\n",
              "    [theme=dark] .colab-df-convert:hover {\n",
              "      background-color: #434B5C;\n",
              "      box-shadow: 0px 1px 3px 1px rgba(0, 0, 0, 0.15);\n",
              "      filter: drop-shadow(0px 1px 2px rgba(0, 0, 0, 0.3));\n",
              "      fill: #FFFFFF;\n",
              "    }\n",
              "  </style>\n",
              "\n",
              "    <script>\n",
              "      const buttonEl =\n",
              "        document.querySelector('#df-276b1f2f-43b3-46b2-98d3-b2510e2cc804 button.colab-df-convert');\n",
              "      buttonEl.style.display =\n",
              "        google.colab.kernel.accessAllowed ? 'block' : 'none';\n",
              "\n",
              "      async function convertToInteractive(key) {\n",
              "        const element = document.querySelector('#df-276b1f2f-43b3-46b2-98d3-b2510e2cc804');\n",
              "        const dataTable =\n",
              "          await google.colab.kernel.invokeFunction('convertToInteractive',\n",
              "                                                    [key], {});\n",
              "        if (!dataTable) return;\n",
              "\n",
              "        const docLinkHtml = 'Like what you see? Visit the ' +\n",
              "          '<a target=\"_blank\" href=https://colab.research.google.com/notebooks/data_table.ipynb>data table notebook</a>'\n",
              "          + ' to learn more about interactive tables.';\n",
              "        element.innerHTML = '';\n",
              "        dataTable['output_type'] = 'display_data';\n",
              "        await google.colab.output.renderOutput(dataTable, element);\n",
              "        const docLink = document.createElement('div');\n",
              "        docLink.innerHTML = docLinkHtml;\n",
              "        element.appendChild(docLink);\n",
              "      }\n",
              "    </script>\n",
              "  </div>\n",
              "\n",
              "\n",
              "<div id=\"df-afc4133a-2a5f-464b-af94-4b348a9323e1\">\n",
              "  <button class=\"colab-df-quickchart\" onclick=\"quickchart('df-afc4133a-2a5f-464b-af94-4b348a9323e1')\"\n",
              "            title=\"Suggest charts\"\n",
              "            style=\"display:none;\">\n",
              "\n",
              "<svg xmlns=\"http://www.w3.org/2000/svg\" height=\"24px\"viewBox=\"0 0 24 24\"\n",
              "     width=\"24px\">\n",
              "    <g>\n",
              "        <path d=\"M19 3H5c-1.1 0-2 .9-2 2v14c0 1.1.9 2 2 2h14c1.1 0 2-.9 2-2V5c0-1.1-.9-2-2-2zM9 17H7v-7h2v7zm4 0h-2V7h2v10zm4 0h-2v-4h2v4z\"/>\n",
              "    </g>\n",
              "</svg>\n",
              "  </button>\n",
              "\n",
              "<style>\n",
              "  .colab-df-quickchart {\n",
              "      --bg-color: #E8F0FE;\n",
              "      --fill-color: #1967D2;\n",
              "      --hover-bg-color: #E2EBFA;\n",
              "      --hover-fill-color: #174EA6;\n",
              "      --disabled-fill-color: #AAA;\n",
              "      --disabled-bg-color: #DDD;\n",
              "  }\n",
              "\n",
              "  [theme=dark] .colab-df-quickchart {\n",
              "      --bg-color: #3B4455;\n",
              "      --fill-color: #D2E3FC;\n",
              "      --hover-bg-color: #434B5C;\n",
              "      --hover-fill-color: #FFFFFF;\n",
              "      --disabled-bg-color: #3B4455;\n",
              "      --disabled-fill-color: #666;\n",
              "  }\n",
              "\n",
              "  .colab-df-quickchart {\n",
              "    background-color: var(--bg-color);\n",
              "    border: none;\n",
              "    border-radius: 50%;\n",
              "    cursor: pointer;\n",
              "    display: none;\n",
              "    fill: var(--fill-color);\n",
              "    height: 32px;\n",
              "    padding: 0;\n",
              "    width: 32px;\n",
              "  }\n",
              "\n",
              "  .colab-df-quickchart:hover {\n",
              "    background-color: var(--hover-bg-color);\n",
              "    box-shadow: 0 1px 2px rgba(60, 64, 67, 0.3), 0 1px 3px 1px rgba(60, 64, 67, 0.15);\n",
              "    fill: var(--button-hover-fill-color);\n",
              "  }\n",
              "\n",
              "  .colab-df-quickchart-complete:disabled,\n",
              "  .colab-df-quickchart-complete:disabled:hover {\n",
              "    background-color: var(--disabled-bg-color);\n",
              "    fill: var(--disabled-fill-color);\n",
              "    box-shadow: none;\n",
              "  }\n",
              "\n",
              "  .colab-df-spinner {\n",
              "    border: 2px solid var(--fill-color);\n",
              "    border-color: transparent;\n",
              "    border-bottom-color: var(--fill-color);\n",
              "    animation:\n",
              "      spin 1s steps(1) infinite;\n",
              "  }\n",
              "\n",
              "  @keyframes spin {\n",
              "    0% {\n",
              "      border-color: transparent;\n",
              "      border-bottom-color: var(--fill-color);\n",
              "      border-left-color: var(--fill-color);\n",
              "    }\n",
              "    20% {\n",
              "      border-color: transparent;\n",
              "      border-left-color: var(--fill-color);\n",
              "      border-top-color: var(--fill-color);\n",
              "    }\n",
              "    30% {\n",
              "      border-color: transparent;\n",
              "      border-left-color: var(--fill-color);\n",
              "      border-top-color: var(--fill-color);\n",
              "      border-right-color: var(--fill-color);\n",
              "    }\n",
              "    40% {\n",
              "      border-color: transparent;\n",
              "      border-right-color: var(--fill-color);\n",
              "      border-top-color: var(--fill-color);\n",
              "    }\n",
              "    60% {\n",
              "      border-color: transparent;\n",
              "      border-right-color: var(--fill-color);\n",
              "    }\n",
              "    80% {\n",
              "      border-color: transparent;\n",
              "      border-right-color: var(--fill-color);\n",
              "      border-bottom-color: var(--fill-color);\n",
              "    }\n",
              "    90% {\n",
              "      border-color: transparent;\n",
              "      border-bottom-color: var(--fill-color);\n",
              "    }\n",
              "  }\n",
              "</style>\n",
              "\n",
              "  <script>\n",
              "    async function quickchart(key) {\n",
              "      const quickchartButtonEl =\n",
              "        document.querySelector('#' + key + ' button');\n",
              "      quickchartButtonEl.disabled = true;  // To prevent multiple clicks.\n",
              "      quickchartButtonEl.classList.add('colab-df-spinner');\n",
              "      try {\n",
              "        const charts = await google.colab.kernel.invokeFunction(\n",
              "            'suggestCharts', [key], {});\n",
              "      } catch (error) {\n",
              "        console.error('Error during call to suggestCharts:', error);\n",
              "      }\n",
              "      quickchartButtonEl.classList.remove('colab-df-spinner');\n",
              "      quickchartButtonEl.classList.add('colab-df-quickchart-complete');\n",
              "    }\n",
              "    (() => {\n",
              "      let quickchartButtonEl =\n",
              "        document.querySelector('#df-afc4133a-2a5f-464b-af94-4b348a9323e1 button');\n",
              "      quickchartButtonEl.style.display =\n",
              "        google.colab.kernel.accessAllowed ? 'block' : 'none';\n",
              "    })();\n",
              "  </script>\n",
              "</div>\n",
              "\n",
              "    </div>\n",
              "  </div>\n"
            ],
            "application/vnd.google.colaboratory.intrinsic+json": {
              "type": "dataframe",
              "variable_name": "df",
              "summary": "{\n  \"name\": \"df\",\n  \"rows\": 144,\n  \"fields\": [\n    {\n      \"column\": \"Passengers\",\n      \"properties\": {\n        \"dtype\": \"number\",\n        \"std\": 119,\n        \"min\": 104,\n        \"max\": 622,\n        \"num_unique_values\": 118,\n        \"samples\": [\n          293,\n          340,\n          121\n        ],\n        \"semantic_type\": \"\",\n        \"description\": \"\"\n      }\n    }\n  ]\n}"
            }
          },
          "metadata": {},
          "execution_count": 29
        }
      ]
    },
    {
      "cell_type": "code",
      "source": [
        "dataset = df.values.astype(\"float32\")"
      ],
      "metadata": {
        "id": "BgeByQ0PY-cS"
      },
      "execution_count": 30,
      "outputs": []
    },
    {
      "cell_type": "code",
      "source": [
        "# normalize the dataset\n",
        "scaler = MinMaxScaler(feature_range=(0, 1))\n",
        "dataset = scaler.fit_transform(dataset)"
      ],
      "metadata": {
        "id": "hd0dCc23ZGcj"
      },
      "execution_count": 31,
      "outputs": []
    },
    {
      "cell_type": "code",
      "source": [
        "dataset.shape"
      ],
      "metadata": {
        "colab": {
          "base_uri": "https://localhost:8080/"
        },
        "id": "ZffjY7qrg-eh",
        "outputId": "da952949-c937-464d-c8ef-ec538a0fa853"
      },
      "execution_count": 32,
      "outputs": [
        {
          "output_type": "execute_result",
          "data": {
            "text/plain": [
              "(144, 1)"
            ]
          },
          "metadata": {},
          "execution_count": 32
        }
      ]
    },
    {
      "cell_type": "code",
      "source": [
        "# split data\n",
        "dataset_size =len(dataset)\n",
        "train_size = int(dataset_size*0.67)\n",
        "test_size = dataset_size - train_size\n",
        "\n",
        "train, test = dataset[:train_size, :],dataset[train_size: dataset_size, :]\n",
        "\n",
        "print(len(train), len(test))"
      ],
      "metadata": {
        "colab": {
          "base_uri": "https://localhost:8080/"
        },
        "id": "TmnIXczeZZY1",
        "outputId": "82ee2abf-8313-49bf-d54a-b6d93df19c44"
      },
      "execution_count": 33,
      "outputs": [
        {
          "output_type": "stream",
          "name": "stdout",
          "text": [
            "96 48\n"
          ]
        }
      ]
    },
    {
      "cell_type": "code",
      "source": [
        "def create_dataset(dataset, look_back=1):\n",
        "  dataX, dataY = [],[]\n",
        "\n",
        "  dsize =  len(dataset)\n",
        "\n",
        "  for i in range(dsize - look_back-1):\n",
        "    a = dataset[i: (i+look_back),0]\n",
        "    dataX.append(a)\n",
        "    dataY.append(dataset[(i+look_back),0])\n",
        "\n",
        "  return np.array(dataX), np.array(dataY)"
      ],
      "metadata": {
        "id": "mNIXwy_cZfPK"
      },
      "execution_count": 34,
      "outputs": []
    },
    {
      "cell_type": "code",
      "source": [
        "# reshape into X=t and Y=t+1\n",
        "\n",
        "look_back=1\n",
        "\n",
        "trainX, trainY = create_dataset(train, look_back)\n",
        "testX, testY = create_dataset(test, look_back)"
      ],
      "metadata": {
        "id": "-rmN2l2nioWa"
      },
      "execution_count": 35,
      "outputs": []
    },
    {
      "cell_type": "code",
      "source": [
        "# reshape input to be [samples, time steps, features]\n",
        "trainX = np.reshape(trainX, (trainX.shape[0], 1, trainX.shape[1]))\n",
        "testX = np.reshape(testX, (testX.shape[0], 1, testX.shape[1]))"
      ],
      "metadata": {
        "id": "DVZXezWNiwKi"
      },
      "execution_count": 36,
      "outputs": []
    },
    {
      "cell_type": "code",
      "source": [
        "# create and fit the LSTM network\n",
        "model = ks.models.Sequential()\n",
        "model.add(ks.layers.LSTM(4, input_shape=(1, look_back)))\n",
        "model.add(ks.layers.Dense(1))\n",
        "\n",
        "model.compile(\n",
        "    optimizer=\"adam\",\n",
        "    loss=\"mean_squared_error\"\n",
        ")\n",
        "\n",
        "model.fit(\n",
        "    trainX, trainY, epochs=100, batch_size=1, verbose=2\n",
        ")"
      ],
      "metadata": {
        "colab": {
          "base_uri": "https://localhost:8080/"
        },
        "id": "pbrLMa_Pi01L",
        "outputId": "fd23c853-7dbb-4b45-9f8d-68c34bbb9c2b"
      },
      "execution_count": 37,
      "outputs": [
        {
          "output_type": "stream",
          "name": "stdout",
          "text": [
            "Epoch 1/100\n"
          ]
        },
        {
          "output_type": "stream",
          "name": "stderr",
          "text": [
            "/usr/local/lib/python3.11/dist-packages/keras/src/layers/rnn/rnn.py:200: UserWarning: Do not pass an `input_shape`/`input_dim` argument to a layer. When using Sequential models, prefer using an `Input(shape)` object as the first layer in the model instead.\n",
            "  super().__init__(**kwargs)\n"
          ]
        },
        {
          "output_type": "stream",
          "name": "stdout",
          "text": [
            "94/94 - 2s - 23ms/step - loss: 0.0412\n",
            "Epoch 2/100\n",
            "94/94 - 0s - 3ms/step - loss: 0.0201\n",
            "Epoch 3/100\n",
            "94/94 - 0s - 3ms/step - loss: 0.0148\n",
            "Epoch 4/100\n",
            "94/94 - 0s - 3ms/step - loss: 0.0137\n",
            "Epoch 5/100\n",
            "94/94 - 0s - 3ms/step - loss: 0.0129\n",
            "Epoch 6/100\n",
            "94/94 - 0s - 3ms/step - loss: 0.0120\n",
            "Epoch 7/100\n",
            "94/94 - 1s - 6ms/step - loss: 0.0111\n",
            "Epoch 8/100\n",
            "94/94 - 0s - 2ms/step - loss: 0.0102\n",
            "Epoch 9/100\n",
            "94/94 - 0s - 2ms/step - loss: 0.0093\n",
            "Epoch 10/100\n",
            "94/94 - 0s - 3ms/step - loss: 0.0084\n",
            "Epoch 11/100\n",
            "94/94 - 0s - 3ms/step - loss: 0.0077\n",
            "Epoch 12/100\n",
            "94/94 - 0s - 3ms/step - loss: 0.0067\n",
            "Epoch 13/100\n",
            "94/94 - 0s - 3ms/step - loss: 0.0059\n",
            "Epoch 14/100\n",
            "94/94 - 0s - 3ms/step - loss: 0.0053\n",
            "Epoch 15/100\n",
            "94/94 - 0s - 3ms/step - loss: 0.0045\n",
            "Epoch 16/100\n",
            "94/94 - 0s - 3ms/step - loss: 0.0039\n",
            "Epoch 17/100\n",
            "94/94 - 0s - 3ms/step - loss: 0.0035\n",
            "Epoch 18/100\n",
            "94/94 - 0s - 2ms/step - loss: 0.0031\n",
            "Epoch 19/100\n",
            "94/94 - 0s - 3ms/step - loss: 0.0028\n",
            "Epoch 20/100\n",
            "94/94 - 0s - 3ms/step - loss: 0.0026\n",
            "Epoch 21/100\n",
            "94/94 - 0s - 2ms/step - loss: 0.0024\n",
            "Epoch 22/100\n",
            "94/94 - 0s - 3ms/step - loss: 0.0023\n",
            "Epoch 23/100\n",
            "94/94 - 0s - 2ms/step - loss: 0.0022\n",
            "Epoch 24/100\n",
            "94/94 - 0s - 2ms/step - loss: 0.0022\n",
            "Epoch 25/100\n",
            "94/94 - 0s - 3ms/step - loss: 0.0022\n",
            "Epoch 26/100\n",
            "94/94 - 0s - 2ms/step - loss: 0.0021\n",
            "Epoch 27/100\n",
            "94/94 - 0s - 3ms/step - loss: 0.0021\n",
            "Epoch 28/100\n",
            "94/94 - 0s - 3ms/step - loss: 0.0020\n",
            "Epoch 29/100\n",
            "94/94 - 0s - 3ms/step - loss: 0.0022\n",
            "Epoch 30/100\n",
            "94/94 - 0s - 2ms/step - loss: 0.0021\n",
            "Epoch 31/100\n",
            "94/94 - 0s - 3ms/step - loss: 0.0021\n",
            "Epoch 32/100\n",
            "94/94 - 0s - 3ms/step - loss: 0.0021\n",
            "Epoch 33/100\n",
            "94/94 - 0s - 2ms/step - loss: 0.0021\n",
            "Epoch 34/100\n",
            "94/94 - 0s - 3ms/step - loss: 0.0021\n",
            "Epoch 35/100\n",
            "94/94 - 0s - 3ms/step - loss: 0.0020\n",
            "Epoch 36/100\n",
            "94/94 - 0s - 2ms/step - loss: 0.0021\n",
            "Epoch 37/100\n",
            "94/94 - 0s - 3ms/step - loss: 0.0021\n",
            "Epoch 38/100\n",
            "94/94 - 0s - 3ms/step - loss: 0.0021\n",
            "Epoch 39/100\n",
            "94/94 - 0s - 2ms/step - loss: 0.0020\n",
            "Epoch 40/100\n",
            "94/94 - 0s - 3ms/step - loss: 0.0021\n",
            "Epoch 41/100\n",
            "94/94 - 0s - 3ms/step - loss: 0.0021\n",
            "Epoch 42/100\n",
            "94/94 - 0s - 3ms/step - loss: 0.0020\n",
            "Epoch 43/100\n",
            "94/94 - 0s - 3ms/step - loss: 0.0021\n",
            "Epoch 44/100\n",
            "94/94 - 0s - 2ms/step - loss: 0.0020\n",
            "Epoch 45/100\n",
            "94/94 - 0s - 4ms/step - loss: 0.0020\n",
            "Epoch 46/100\n",
            "94/94 - 0s - 3ms/step - loss: 0.0020\n",
            "Epoch 47/100\n",
            "94/94 - 0s - 3ms/step - loss: 0.0021\n",
            "Epoch 48/100\n",
            "94/94 - 0s - 3ms/step - loss: 0.0020\n",
            "Epoch 49/100\n",
            "94/94 - 0s - 3ms/step - loss: 0.0020\n",
            "Epoch 50/100\n",
            "94/94 - 1s - 6ms/step - loss: 0.0021\n",
            "Epoch 51/100\n",
            "94/94 - 0s - 3ms/step - loss: 0.0021\n",
            "Epoch 52/100\n",
            "94/94 - 0s - 3ms/step - loss: 0.0020\n",
            "Epoch 53/100\n",
            "94/94 - 1s - 5ms/step - loss: 0.0020\n",
            "Epoch 54/100\n",
            "94/94 - 0s - 3ms/step - loss: 0.0022\n",
            "Epoch 55/100\n",
            "94/94 - 0s - 3ms/step - loss: 0.0020\n",
            "Epoch 56/100\n",
            "94/94 - 0s - 3ms/step - loss: 0.0021\n",
            "Epoch 57/100\n",
            "94/94 - 0s - 3ms/step - loss: 0.0020\n",
            "Epoch 58/100\n",
            "94/94 - 0s - 2ms/step - loss: 0.0021\n",
            "Epoch 59/100\n",
            "94/94 - 0s - 3ms/step - loss: 0.0021\n",
            "Epoch 60/100\n",
            "94/94 - 0s - 3ms/step - loss: 0.0021\n",
            "Epoch 61/100\n",
            "94/94 - 0s - 2ms/step - loss: 0.0021\n",
            "Epoch 62/100\n",
            "94/94 - 0s - 2ms/step - loss: 0.0021\n",
            "Epoch 63/100\n",
            "94/94 - 0s - 2ms/step - loss: 0.0021\n",
            "Epoch 64/100\n",
            "94/94 - 0s - 3ms/step - loss: 0.0020\n",
            "Epoch 65/100\n",
            "94/94 - 0s - 3ms/step - loss: 0.0020\n",
            "Epoch 66/100\n",
            "94/94 - 0s - 3ms/step - loss: 0.0021\n",
            "Epoch 67/100\n",
            "94/94 - 0s - 3ms/step - loss: 0.0022\n",
            "Epoch 68/100\n",
            "94/94 - 0s - 3ms/step - loss: 0.0020\n",
            "Epoch 69/100\n",
            "94/94 - 0s - 2ms/step - loss: 0.0020\n",
            "Epoch 70/100\n",
            "94/94 - 0s - 3ms/step - loss: 0.0020\n",
            "Epoch 71/100\n",
            "94/94 - 0s - 3ms/step - loss: 0.0020\n",
            "Epoch 72/100\n",
            "94/94 - 0s - 3ms/step - loss: 0.0020\n",
            "Epoch 73/100\n",
            "94/94 - 0s - 3ms/step - loss: 0.0020\n",
            "Epoch 74/100\n",
            "94/94 - 0s - 3ms/step - loss: 0.0020\n",
            "Epoch 75/100\n",
            "94/94 - 0s - 3ms/step - loss: 0.0021\n",
            "Epoch 76/100\n",
            "94/94 - 0s - 2ms/step - loss: 0.0020\n",
            "Epoch 77/100\n",
            "94/94 - 0s - 3ms/step - loss: 0.0020\n",
            "Epoch 78/100\n",
            "94/94 - 0s - 2ms/step - loss: 0.0020\n",
            "Epoch 79/100\n",
            "94/94 - 0s - 3ms/step - loss: 0.0020\n",
            "Epoch 80/100\n",
            "94/94 - 0s - 3ms/step - loss: 0.0020\n",
            "Epoch 81/100\n",
            "94/94 - 0s - 3ms/step - loss: 0.0020\n",
            "Epoch 82/100\n",
            "94/94 - 0s - 2ms/step - loss: 0.0020\n",
            "Epoch 83/100\n",
            "94/94 - 0s - 3ms/step - loss: 0.0021\n",
            "Epoch 84/100\n",
            "94/94 - 0s - 3ms/step - loss: 0.0020\n",
            "Epoch 85/100\n",
            "94/94 - 0s - 3ms/step - loss: 0.0021\n",
            "Epoch 86/100\n",
            "94/94 - 0s - 3ms/step - loss: 0.0020\n",
            "Epoch 87/100\n",
            "94/94 - 0s - 2ms/step - loss: 0.0021\n",
            "Epoch 88/100\n",
            "94/94 - 0s - 2ms/step - loss: 0.0021\n",
            "Epoch 89/100\n",
            "94/94 - 0s - 3ms/step - loss: 0.0022\n",
            "Epoch 90/100\n",
            "94/94 - 0s - 4ms/step - loss: 0.0020\n",
            "Epoch 91/100\n",
            "94/94 - 1s - 6ms/step - loss: 0.0020\n",
            "Epoch 92/100\n",
            "94/94 - 0s - 3ms/step - loss: 0.0020\n",
            "Epoch 93/100\n",
            "94/94 - 1s - 6ms/step - loss: 0.0021\n",
            "Epoch 94/100\n",
            "94/94 - 0s - 3ms/step - loss: 0.0021\n",
            "Epoch 95/100\n",
            "94/94 - 0s - 3ms/step - loss: 0.0021\n",
            "Epoch 96/100\n",
            "94/94 - 0s - 3ms/step - loss: 0.0021\n",
            "Epoch 97/100\n",
            "94/94 - 0s - 3ms/step - loss: 0.0020\n",
            "Epoch 98/100\n",
            "94/94 - 0s - 2ms/step - loss: 0.0022\n",
            "Epoch 99/100\n",
            "94/94 - 0s - 3ms/step - loss: 0.0021\n",
            "Epoch 100/100\n",
            "94/94 - 0s - 2ms/step - loss: 0.0020\n"
          ]
        },
        {
          "output_type": "execute_result",
          "data": {
            "text/plain": [
              "<keras.src.callbacks.history.History at 0x792beeda6a90>"
            ]
          },
          "metadata": {},
          "execution_count": 37
        }
      ]
    },
    {
      "cell_type": "code",
      "source": [
        "# make predictions\n",
        "trainPredict = model.predict(trainX)\n",
        "testPredict = model.predict(testX)"
      ],
      "metadata": {
        "colab": {
          "base_uri": "https://localhost:8080/"
        },
        "id": "Sg2UQ72ykHxG",
        "outputId": "123f9f18-2317-47ed-b2bd-32744bcd17f5"
      },
      "execution_count": 38,
      "outputs": [
        {
          "output_type": "stream",
          "name": "stdout",
          "text": [
            "\u001b[1m3/3\u001b[0m \u001b[32m━━━━━━━━━━━━━━━━━━━━\u001b[0m\u001b[37m\u001b[0m \u001b[1m0s\u001b[0m 89ms/step\n",
            "\u001b[1m2/2\u001b[0m \u001b[32m━━━━━━━━━━━━━━━━━━━━\u001b[0m\u001b[37m\u001b[0m \u001b[1m0s\u001b[0m 19ms/step\n"
          ]
        }
      ]
    },
    {
      "cell_type": "code",
      "source": [
        "# invert predictions\n",
        "trainPredict = scaler.inverse_transform(trainPredict)\n",
        "trainY = scaler.inverse_transform([trainY])\n",
        "\n",
        "testPredict = scaler.inverse_transform(testPredict)\n",
        "testY = scaler.inverse_transform([testY])"
      ],
      "metadata": {
        "id": "8SfcSSuQkmk6"
      },
      "execution_count": 39,
      "outputs": []
    },
    {
      "cell_type": "code",
      "source": [
        "# calculate root mean squared error\n",
        "trainScore = math.sqrt(mean_squared_error(trainY[0], trainPredict[:,0]))\n",
        "testScore = math.sqrt(mean_squared_error(testY[0], testPredict[:,0]))"
      ],
      "metadata": {
        "id": "pBB1kudOloAz"
      },
      "execution_count": 40,
      "outputs": []
    },
    {
      "cell_type": "code",
      "source": [
        "# shift train predictions for plotting\n",
        "trainPredictPlot = np.empty_like(dataset)\n",
        "trainPredictPlot[:,:] = np.nan\n",
        "trainPredictPlot[look_back:len(trainPredict)+look_back, :] = trainPredict\n",
        "\n",
        "# shift test predictions for plotting\n",
        "testPredictPlot = np.empty_like(dataset)\n",
        "testPredictPlot[:, :] = np.nan\n",
        "testPredictPlot[len(trainPredict)+(look_back*2)+1:len(dataset)-1, :] = testPredict\n",
        "\n",
        "# plot baseline and predictions\n",
        "plt.plot(scaler.inverse_transform(dataset), color=\"green\")\n",
        "plt.plot(trainPredictPlot, color='blue',)\n",
        "plt.plot(testPredictPlot, color='red',)\n",
        "plt.show()"
      ],
      "metadata": {
        "colab": {
          "base_uri": "https://localhost:8080/",
          "height": 430
        },
        "id": "mt0jqlAAl5ui",
        "outputId": "2a82ea0c-591f-4ae9-867f-6fd66f415745"
      },
      "execution_count": 41,
      "outputs": [
        {
          "output_type": "display_data",
          "data": {
            "text/plain": [
              "<Figure size 640x480 with 1 Axes>"
            ],
            "image/png": "[encoded data removed]"
          },
          "metadata": {}
        }
      ]
    },
    {
      "cell_type": "code",
      "source": [],
      "metadata": {
        "id": "PS0h8cO9mNOs"
      },
      "execution_count": null,
      "outputs": []
    }
  ]
}