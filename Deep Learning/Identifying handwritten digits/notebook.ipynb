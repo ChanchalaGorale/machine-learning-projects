{
  "cells": [
    {
      "cell_type": "markdown",
      "source": [],
      "metadata": {
        "id": "4tqSfk7qdiUG"
      }
    },
    {
      "cell_type": "markdown",
      "source": [
        "# Identifying handwritten digits"
      ],
      "metadata": {
        "id": "4cvaJ6dOdiUz"
      }
    },
    {
      "cell_type": "code",
      "source": [
        "import torch\n",
        "import torch.nn as nn\n",
        "import torchvision.datasets as dsets\n",
        "import torchvision.transforms as transforms\n",
        "from torch.autograd import Variable"
      ],
      "metadata": {
        "id": "TzlqvHOedi4M"
      },
      "execution_count": 146,
      "outputs": []
    },
    {
      "cell_type": "code",
      "source": [
        "batch_size = 64\n",
        "\n",
        "train_dataset = dsets.MNIST(root ='./data',\n",
        "                            train = True,\n",
        "                            transform = transforms.ToTensor(),\n",
        "                            download = True)\n",
        "\n",
        "test_dataset = dsets.MNIST(root ='./data',\n",
        "                           train = False,\n",
        "                           transform = transforms.ToTensor())\n",
        "\n",
        "train_loader = torch.utils.data.DataLoader(dataset = train_dataset,\n",
        "                                           batch_size = batch_size,\n",
        "                                           shuffle = True)\n",
        "\n",
        "test_loader = torch.utils.data.DataLoader(dataset = test_dataset,\n",
        "                                          batch_size = batch_size,\n",
        "                                          shuffle = False)"
      ],
      "metadata": {
        "colab": {
          "base_uri": "https://localhost:8080/"
        },
        "id": "E35hn1CSdkRU",
        "outputId": "59dc9d32-0fc5-444b-986f-3e26a37f37a7"
      },
      "execution_count": 147,
      "outputs": [
        {
          "output_type": "stream",
          "name": "stderr",
          "text": [
            "100%|██████████| 9.91M/9.91M [00:00<00:00, 53.6MB/s]\n",
            "100%|██████████| 28.9k/28.9k [00:00<00:00, 1.72MB/s]\n",
            "100%|██████████| 1.65M/1.65M [00:00<00:00, 14.4MB/s]\n",
            "100%|██████████| 4.54k/4.54k [00:00<00:00, 3.77MB/s]\n"
          ]
        }
      ]
    },
    {
      "cell_type": "code",
      "source": [
        "input_size = 784\n",
        "num_classes = 10\n",
        "num_epochs = 5\n",
        "batch_size = 100\n",
        "learning_rate = 0.001"
      ],
      "metadata": {
        "id": "c4kuHWQodqe1"
      },
      "execution_count": 148,
      "outputs": []
    },
    {
      "cell_type": "code",
      "source": [
        "class LogisticRegression(nn.Module):\n",
        "    def __init__(self, input_size, num_classes):\n",
        "        super(LogisticRegression, self).__init__()\n",
        "        self.linear = nn.Linear(input_size, num_classes)\n",
        "\n",
        "    def forward(self, x):\n",
        "        out = self.linear(x)\n",
        "        return out"
      ],
      "metadata": {
        "id": "kCmierz3duMe"
      },
      "execution_count": 149,
      "outputs": []
    },
    {
      "cell_type": "code",
      "source": [
        "model = LogisticRegression(input_size, num_classes)"
      ],
      "metadata": {
        "id": "fM8LLGP2dvfT"
      },
      "execution_count": 150,
      "outputs": []
    },
    {
      "cell_type": "code",
      "source": [
        "criterion = nn.CrossEntropyLoss()\n",
        "optimizer = torch.optim.SGD(model.parameters(), lr = learning_rate)"
      ],
      "metadata": {
        "id": "Iz7ldskEdxHh"
      },
      "execution_count": 151,
      "outputs": []
    },
    {
      "cell_type": "code",
      "source": [
        "for epoch in range(num_epochs):\n",
        "\tfor i, (images, labels) in enumerate(train_loader):\n",
        "\t\timages = Variable(images.view(-1, 28 * 28))\n",
        "\t\tlabels = Variable(labels)\n",
        "\n",
        "\t\toptimizer.zero_grad()\n",
        "\t\toutputs = model(images)\n",
        "\t\tloss = criterion(outputs, labels)\n",
        "\t\tloss.backward()\n",
        "\t\toptimizer.step()\n",
        "\n",
        "\t\tif (i + 1) % 100 == 0:\n",
        "\t\t\tprint('Epoch: [% d/% d], Step: [% d/% d], Loss: %.4f'\n",
        "\t\t\t\t% (epoch + 1, num_epochs, i + 1,\n",
        "\t\t\t\t\tlen(train_dataset) // batch_size, loss.item()))"
      ],
      "metadata": {
        "colab": {
          "base_uri": "https://localhost:8080/"
        },
        "collapsed": true,
        "id": "6K8q-XpWdycc",
        "outputId": "15f2816c-d5ef-490f-b6fd-3752926a4e8e"
      },
      "execution_count": 152,
      "outputs": [
        {
          "output_type": "stream",
          "name": "stdout",
          "text": [
            "Epoch: [ 1/ 5], Step: [ 100/ 600], Loss: 2.1971\n",
            "Epoch: [ 1/ 5], Step: [ 200/ 600], Loss: 2.1472\n",
            "Epoch: [ 1/ 5], Step: [ 300/ 600], Loss: 1.9720\n",
            "Epoch: [ 1/ 5], Step: [ 400/ 600], Loss: 1.9168\n",
            "Epoch: [ 1/ 5], Step: [ 500/ 600], Loss: 1.8371\n",
            "Epoch: [ 1/ 5], Step: [ 600/ 600], Loss: 1.8431\n",
            "Epoch: [ 1/ 5], Step: [ 700/ 600], Loss: 1.7405\n",
            "Epoch: [ 1/ 5], Step: [ 800/ 600], Loss: 1.6470\n",
            "Epoch: [ 1/ 5], Step: [ 900/ 600], Loss: 1.6204\n",
            "Epoch: [ 2/ 5], Step: [ 100/ 600], Loss: 1.5899\n",
            "Epoch: [ 2/ 5], Step: [ 200/ 600], Loss: 1.4178\n",
            "Epoch: [ 2/ 5], Step: [ 300/ 600], Loss: 1.4830\n",
            "Epoch: [ 2/ 5], Step: [ 400/ 600], Loss: 1.4348\n",
            "Epoch: [ 2/ 5], Step: [ 500/ 600], Loss: 1.3654\n",
            "Epoch: [ 2/ 5], Step: [ 600/ 600], Loss: 1.2205\n",
            "Epoch: [ 2/ 5], Step: [ 700/ 600], Loss: 1.4342\n",
            "Epoch: [ 2/ 5], Step: [ 800/ 600], Loss: 1.3311\n",
            "Epoch: [ 2/ 5], Step: [ 900/ 600], Loss: 1.2309\n",
            "Epoch: [ 3/ 5], Step: [ 100/ 600], Loss: 1.2354\n",
            "Epoch: [ 3/ 5], Step: [ 200/ 600], Loss: 1.1747\n",
            "Epoch: [ 3/ 5], Step: [ 300/ 600], Loss: 1.2602\n",
            "Epoch: [ 3/ 5], Step: [ 400/ 600], Loss: 1.1759\n",
            "Epoch: [ 3/ 5], Step: [ 500/ 600], Loss: 1.0398\n",
            "Epoch: [ 3/ 5], Step: [ 600/ 600], Loss: 1.0737\n",
            "Epoch: [ 3/ 5], Step: [ 700/ 600], Loss: 1.1158\n",
            "Epoch: [ 3/ 5], Step: [ 800/ 600], Loss: 1.0370\n",
            "Epoch: [ 3/ 5], Step: [ 900/ 600], Loss: 1.0698\n",
            "Epoch: [ 4/ 5], Step: [ 100/ 600], Loss: 0.9530\n",
            "Epoch: [ 4/ 5], Step: [ 200/ 600], Loss: 1.1964\n",
            "Epoch: [ 4/ 5], Step: [ 300/ 600], Loss: 0.9749\n",
            "Epoch: [ 4/ 5], Step: [ 400/ 600], Loss: 1.0382\n",
            "Epoch: [ 4/ 5], Step: [ 500/ 600], Loss: 0.9643\n",
            "Epoch: [ 4/ 5], Step: [ 600/ 600], Loss: 0.9514\n",
            "Epoch: [ 4/ 5], Step: [ 700/ 600], Loss: 0.8130\n",
            "Epoch: [ 4/ 5], Step: [ 800/ 600], Loss: 1.0451\n",
            "Epoch: [ 4/ 5], Step: [ 900/ 600], Loss: 1.0633\n",
            "Epoch: [ 5/ 5], Step: [ 100/ 600], Loss: 0.8033\n",
            "Epoch: [ 5/ 5], Step: [ 200/ 600], Loss: 0.9260\n",
            "Epoch: [ 5/ 5], Step: [ 300/ 600], Loss: 0.9470\n",
            "Epoch: [ 5/ 5], Step: [ 400/ 600], Loss: 1.0837\n",
            "Epoch: [ 5/ 5], Step: [ 500/ 600], Loss: 0.8464\n",
            "Epoch: [ 5/ 5], Step: [ 600/ 600], Loss: 0.8551\n",
            "Epoch: [ 5/ 5], Step: [ 700/ 600], Loss: 0.8285\n",
            "Epoch: [ 5/ 5], Step: [ 800/ 600], Loss: 0.7762\n",
            "Epoch: [ 5/ 5], Step: [ 900/ 600], Loss: 0.8327\n"
          ]
        }
      ]
    },
    {
      "cell_type": "code",
      "source": [
        "correct = 0\n",
        "total = 0\n",
        "for images, labels in test_loader:\n",
        "    images = Variable(images.view(-1, 28 * 28))\n",
        "    outputs = model(images)\n",
        "    _, predicted = torch.max(outputs.data, 1)\n",
        "    total += labels.size(0)\n",
        "    correct += (predicted == labels).sum()\n",
        "\n",
        "print('Accuracy of the model on the 10000 test images: % d %%' % (\n",
        "            100 * correct / total))"
      ],
      "metadata": {
        "colab": {
          "base_uri": "https://localhost:8080/"
        },
        "id": "iOqSjlqcd12s",
        "outputId": "3a4bb12d-3c59-457b-fd46-80fe7575e99a"
      },
      "execution_count": 153,
      "outputs": [
        {
          "output_type": "stream",
          "name": "stdout",
          "text": [
            "Accuracy of the model on the 10000 test images:  84 %\n"
          ]
        }
      ]
    },
    {
      "cell_type": "code",
      "source": [
        "import torch\n",
        "import torch.nn as nn\n",
        "import torchvision.datasets as dsets\n",
        "import torchvision.transforms as transforms\n",
        "from torch.autograd import Variable\n",
        "\n",
        "\n",
        "train_dataset = dsets.MNIST(root ='./data',\n",
        "\t\t\t\t\t\t\ttrain = True,\n",
        "\t\t\t\t\t\t\ttransform = transforms.ToTensor(),\n",
        "\t\t\t\t\t\t\tdownload = True)\n",
        "\n",
        "test_dataset = dsets.MNIST(root ='./data',\n",
        "\t\t\t\t\t\ttrain = False,\n",
        "\t\t\t\t\t\ttransform = transforms.ToTensor())\n",
        "\n",
        "train_loader = torch.utils.data.DataLoader(dataset = train_dataset,\n",
        "\t\t\t\t\t\t\t\t\t\tbatch_size = batch_size,\n",
        "\t\t\t\t\t\t\t\t\t\tshuffle = True)\n",
        "\n",
        "test_loader = torch.utils.data.DataLoader(dataset = test_dataset,\n",
        "\t\t\t\t\t\t\t\t\t\tbatch_size = batch_size,\n",
        "\t\t\t\t\t\t\t\t\t\tshuffle = False)\n",
        "\n",
        "input_size = 784\n",
        "num_classes = 10\n",
        "num_epochs = 5\n",
        "batch_size = 100\n",
        "learning_rate = 0.001\n",
        "\n",
        "class LogisticRegression(nn.Module):\n",
        "\tdef __init__(self, input_size, num_classes):\n",
        "\t\tsuper(LogisticRegression, self).__init__()\n",
        "\t\tself.linear = nn.Linear(input_size, num_classes)\n",
        "\n",
        "\tdef forward(self, x):\n",
        "\t\tout = self.linear(x)\n",
        "\t\treturn out\n",
        "\n",
        "\n",
        "model = LogisticRegression(input_size, num_classes)\n",
        "\n",
        "criterion = nn.CrossEntropyLoss()\n",
        "optimizer = torch.optim.SGD(model.parameters(), lr = learning_rate)\n",
        "\n",
        "for epoch in range(num_epochs):\n",
        "\tfor i, (images, labels) in enumerate(train_loader):\n",
        "\t\timages = Variable(images.view(-1, 28 * 28))\n",
        "\t\tlabels = Variable(labels)\n",
        "\n",
        "\t\toptimizer.zero_grad()\n",
        "\t\toutputs = model(images)\n",
        "\t\tloss = criterion(outputs, labels)\n",
        "\t\tloss.backward()\n",
        "\t\toptimizer.step()\n",
        "\n",
        "\t\tif (i + 1) % 100 == 0:\n",
        "\t\t\tprint('Epoch: [% d/% d], Step: [% d/% d], Loss: %.4f'\n",
        "\t\t\t\t% (epoch + 1, num_epochs, i + 1,\n",
        "\t\t\t\t\tlen(train_dataset) // batch_size, loss.item()))\n",
        "\n",
        "correct = 0\n",
        "total = 0\n",
        "for images, labels in test_loader:\n",
        "\timages = Variable(images.view(-1, 28 * 28))\n",
        "\toutputs = model(images)\n",
        "\t_, predicted = torch.max(outputs.data, 1)\n",
        "\ttotal += labels.size(0)\n",
        "\tcorrect += (predicted == labels).sum()\n",
        "\n",
        "print('Accuracy of the model on the 10000 test images: % d %%' % (\n",
        "\t\t\t100 * correct / total))"
      ],
      "metadata": {
        "colab": {
          "base_uri": "https://localhost:8080/"
        },
        "id": "bcR3ZMVbd7KX",
        "outputId": "fdd538ab-da20-41f2-e1d0-b52fef177ddf"
      },
      "execution_count": 154,
      "outputs": [
        {
          "output_type": "stream",
          "name": "stdout",
          "text": [
            "Epoch: [ 1/ 5], Step: [ 100/ 600], Loss: 2.2015\n",
            "Epoch: [ 1/ 5], Step: [ 200/ 600], Loss: 2.1164\n",
            "Epoch: [ 1/ 5], Step: [ 300/ 600], Loss: 2.0794\n",
            "Epoch: [ 1/ 5], Step: [ 400/ 600], Loss: 1.9114\n",
            "Epoch: [ 1/ 5], Step: [ 500/ 600], Loss: 1.8676\n",
            "Epoch: [ 1/ 5], Step: [ 600/ 600], Loss: 1.8357\n",
            "Epoch: [ 2/ 5], Step: [ 100/ 600], Loss: 1.6621\n",
            "Epoch: [ 2/ 5], Step: [ 200/ 600], Loss: 1.6992\n",
            "Epoch: [ 2/ 5], Step: [ 300/ 600], Loss: 1.6625\n",
            "Epoch: [ 2/ 5], Step: [ 400/ 600], Loss: 1.5418\n",
            "Epoch: [ 2/ 5], Step: [ 500/ 600], Loss: 1.4906\n",
            "Epoch: [ 2/ 5], Step: [ 600/ 600], Loss: 1.5306\n",
            "Epoch: [ 3/ 5], Step: [ 100/ 600], Loss: 1.5126\n",
            "Epoch: [ 3/ 5], Step: [ 200/ 600], Loss: 1.3655\n",
            "Epoch: [ 3/ 5], Step: [ 300/ 600], Loss: 1.3679\n",
            "Epoch: [ 3/ 5], Step: [ 400/ 600], Loss: 1.2492\n",
            "Epoch: [ 3/ 5], Step: [ 500/ 600], Loss: 1.3825\n",
            "Epoch: [ 3/ 5], Step: [ 600/ 600], Loss: 1.2819\n",
            "Epoch: [ 4/ 5], Step: [ 100/ 600], Loss: 1.2125\n",
            "Epoch: [ 4/ 5], Step: [ 200/ 600], Loss: 1.2572\n",
            "Epoch: [ 4/ 5], Step: [ 300/ 600], Loss: 1.1564\n",
            "Epoch: [ 4/ 5], Step: [ 400/ 600], Loss: 1.1500\n",
            "Epoch: [ 4/ 5], Step: [ 500/ 600], Loss: 1.1957\n",
            "Epoch: [ 4/ 5], Step: [ 600/ 600], Loss: 1.0515\n",
            "Epoch: [ 5/ 5], Step: [ 100/ 600], Loss: 1.1157\n",
            "Epoch: [ 5/ 5], Step: [ 200/ 600], Loss: 1.1017\n",
            "Epoch: [ 5/ 5], Step: [ 300/ 600], Loss: 0.9633\n",
            "Epoch: [ 5/ 5], Step: [ 400/ 600], Loss: 1.0499\n",
            "Epoch: [ 5/ 5], Step: [ 500/ 600], Loss: 1.0603\n",
            "Epoch: [ 5/ 5], Step: [ 600/ 600], Loss: 0.9014\n",
            "Accuracy of the model on the 10000 test images:  82 %\n"
          ]
        }
      ]
    },
    {
      "cell_type": "code",
      "source": [],
      "metadata": {
        "id": "yPFr9RH0fPr8"
      },
      "execution_count": null,
      "outputs": []
    }
  ],
  "metadata": {
    "colab": {
      "provenance": []
    },
    "kernelspec": {
      "display_name": "Python 3",
      "name": "python3"
    },
    "language_info": {
      "name": "python"
    }
  },
  "nbformat": 4,
  "nbformat_minor": 0
}